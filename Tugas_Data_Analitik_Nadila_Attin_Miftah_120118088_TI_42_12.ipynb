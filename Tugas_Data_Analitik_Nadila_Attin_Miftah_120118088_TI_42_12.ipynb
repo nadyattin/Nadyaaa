{
  "nbformat": 4,
  "nbformat_minor": 0,
  "metadata": {
    "colab": {
      "name": "Tugas Data Analitik_Nadila Attin Miftah_120118088_TI-42-12.ipynb",
      "provenance": [],
      "collapsed_sections": [],
      "authorship_tag": "ABX9TyNYhVlnSKCRl3RLyfCeJoFo",
      "include_colab_link": true
    },
    "kernelspec": {
      "name": "python3",
      "display_name": "Python 3"
    },
    "language_info": {
      "name": "python"
    }
  },
  "cells": [
    {
      "cell_type": "markdown",
      "metadata": {
        "id": "view-in-github",
        "colab_type": "text"
      },
      "source": [
        "<a href=\"https://colab.research.google.com/github/nadyattin/Nadyaaa/blob/master/Tugas_Data_Analitik_Nadila_Attin_Miftah_120118088_TI_42_12.ipynb\" target=\"_parent\"><img src=\"https://colab.research.google.com/assets/colab-badge.svg\" alt=\"Open In Colab\"/></a>"
      ]
    },
    {
      "cell_type": "markdown",
      "metadata": {
        "id": "Riautn3S5ACa"
      },
      "source": [
        "Loading Python Library"
      ]
    },
    {
      "cell_type": "code",
      "metadata": {
        "id": "f4HKEyQzu-BU"
      },
      "source": [
        "import pandas as pd"
      ],
      "execution_count": null,
      "outputs": []
    },
    {
      "cell_type": "markdown",
      "metadata": {
        "id": "caR1zmpczeZ9"
      },
      "source": [
        "Upload File **.xlsx** ke Google Colab"
      ]
    },
    {
      "cell_type": "code",
      "metadata": {
        "colab": {
          "resources": {
            "http://localhost:8080/nbextensions/google.colab/files.js": {
              "data": "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",
              "ok": true,
              "headers": [
                [
                  "content-type",
                  "application/javascript"
                ]
              ],
              "status": 200,
              "status_text": ""
            }
          },
          "base_uri": "https://localhost:8080/",
          "height": 111
        },
        "id": "ygZuwC1owop3",
        "outputId": "64ad9e3b-0e31-4297-d95d-94fb1a676426"
      },
      "source": [
        "from google.colab import files\n",
        "files.upload()"
      ],
      "execution_count": null,
      "outputs": [
        {
          "output_type": "display_data",
          "data": {
            "text/html": [
              "\n",
              "     <input type=\"file\" id=\"files-283cac1b-2db9-46ab-8c97-5e2ded6ebbdd\" name=\"files[]\" multiple disabled\n",
              "        style=\"border:none\" />\n",
              "     <output id=\"result-283cac1b-2db9-46ab-8c97-5e2ded6ebbdd\">\n",
              "      Upload widget is only available when the cell has been executed in the\n",
              "      current browser session. Please rerun this cell to enable.\n",
              "      </output>\n",
              "      <script src=\"/nbextensions/google.colab/files.js\"></script> "
            ],
            "text/plain": [
              "<IPython.core.display.HTML object>"
            ]
          },
          "metadata": {}
        },
        {
          "output_type": "stream",
          "name": "stdout",
          "text": [
            "Saving Data Tugas.xlsx to Data Tugas.xlsx\n"
          ]
        },
        {
          "output_type": "execute_result",
          "data": {
            "text/plain": [
              "{'Data Tugas.xlsx': b'PK\\x03\\x04\\x14\\x00\\x06\\x00\\x08\\x00\\x00\\x00!\\x00b\\xee\\x9dh^\\x01\\x00\\x00\\x90\\x04\\x00\\x00\\x13\\x00\\x08\\x02[Content_Types].xml \\xa2\\x04\\x02(\\xa0\\x00\\x02\\x00\\x00\\x00\\x00\\x00\\x00\\x00\\x00\\x00\\x00\\x00\\x00\\x00\\x00\\x00\\x00\\x00\\x00\\x00\\x00\\x00\\x00\\x00\\x00\\x00\\x00\\x00\\x00\\x00\\x00\\x00\\x00\\x00\\x00\\x00\\x00\\x00\\x00\\x00\\x00\\x00\\x00\\x00\\x00\\x00\\x00\\x00\\x00\\x00\\x00\\x00\\x00\\x00\\x00\\x00\\x00\\x00\\x00\\x00\\x00\\x00\\x00\\x00\\x00\\x00\\x00\\x00\\x00\\x00\\x00\\x00\\x00\\x00\\x00\\x00\\x00\\x00\\x00\\x00\\x00\\x00\\x00\\x00\\x00\\x00\\x00\\x00\\x00\\x00\\x00\\x00\\x00\\x00\\x00\\x00\\x00\\x00\\x00\\x00\\x00\\x00\\x00\\x00\\x00\\x00\\x00\\x00\\x00\\x00\\x00\\x00\\x00\\x00\\x00\\x00\\x00\\x00\\x00\\x00\\x00\\x00\\x00\\x00\\x00\\x00\\x00\\x00\\x00\\x00\\x00\\x00\\x00\\x00\\x00\\x00\\x00\\x00\\x00\\x00\\x00\\x00\\x00\\x00\\x00\\x00\\x00\\x00\\x00\\x00\\x00\\x00\\x00\\x00\\x00\\x00\\x00\\x00\\x00\\x00\\x00\\x00\\x00\\x00\\x00\\x00\\x00\\x00\\x00\\x00\\x00\\x00\\x00\\x00\\x00\\x00\\x00\\x00\\x00\\x00\\x00\\x00\\x00\\x00\\x00\\x00\\x00\\x00\\x00\\x00\\x00\\x00\\x00\\x00\\x00\\x00\\x00\\x00\\x00\\x00\\x00\\x00\\x00\\x00\\x00\\x00\\x00\\x00\\x00\\x00\\x00\\x00\\x00\\x00\\x00\\x00\\x00\\x00\\x00\\x00\\x00\\x00\\x00\\x00\\x00\\x00\\x00\\x00\\x00\\x00\\x00\\x00\\x00\\x00\\x00\\x00\\x00\\x00\\x00\\x00\\x00\\x00\\x00\\x00\\x00\\x00\\x00\\x00\\x00\\x00\\x00\\x00\\x00\\x00\\x00\\x00\\x00\\x00\\x00\\x00\\x00\\x00\\x00\\x00\\x00\\x00\\x00\\x00\\x00\\x00\\x00\\x00\\x00\\x00\\x00\\x00\\x00\\x00\\x00\\x00\\x00\\x00\\x00\\x00\\x00\\x00\\x00\\x00\\x00\\x00\\x00\\x00\\x00\\x00\\x00\\x00\\x00\\x00\\x00\\x00\\x00\\x00\\x00\\x00\\x00\\x00\\x00\\x00\\x00\\x00\\x00\\x00\\x00\\x00\\x00\\x00\\x00\\x00\\x00\\x00\\x00\\x00\\x00\\x00\\x00\\x00\\x00\\x00\\x00\\x00\\x00\\x00\\x00\\x00\\x00\\x00\\x00\\x00\\x00\\x00\\x00\\x00\\x00\\x00\\x00\\x00\\x00\\x00\\x00\\x00\\x00\\x00\\x00\\x00\\x00\\x00\\x00\\x00\\x00\\x00\\x00\\x00\\x00\\x00\\x00\\x00\\x00\\x00\\x00\\x00\\x00\\x00\\x00\\x00\\x00\\x00\\x00\\x00\\x00\\x00\\x00\\x00\\x00\\x00\\x00\\x00\\x00\\x00\\x00\\x00\\x00\\x00\\x00\\x00\\x00\\x00\\x00\\x00\\x00\\x00\\x00\\x00\\x00\\x00\\x00\\x00\\x00\\x00\\x00\\x00\\x00\\x00\\x00\\x00\\x00\\x00\\x00\\x00\\x00\\x00\\x00\\x00\\x00\\x00\\x00\\x00\\x00\\x00\\x00\\x00\\x00\\x00\\x00\\x00\\x00\\x00\\x00\\x00\\x00\\x00\\x00\\x00\\x00\\x00\\x00\\x00\\x00\\x00\\x00\\x00\\x00\\x00\\x00\\x00\\x00\\x00\\x00\\x00\\x00\\x00\\x00\\x00\\x00\\x00\\x00\\x00\\x00\\x00\\x00\\x00\\x00\\x00\\x00\\x00\\x00\\x00\\x00\\x00\\x00\\x00\\x00\\x00\\x00\\x00\\x00\\x00\\x00\\x00\\x00\\x00\\x00\\x00\\x00\\x00\\x00\\x00\\x00\\x00\\x00\\x00\\x00\\x00\\x00\\x00\\x00\\x00\\x00\\x00\\x00\\x00\\x00\\x00\\x00\\xac\\x94\\xcbN\\xc30\\x10E\\xf7H\\xfcC\\xe4-J\\xdc\\xb2@\\x085\\xed\\x82\\xc7\\x12*Q>\\xc0\\xc4\\x93\\xc6\\xaac[\\x9eii\\xff\\x9e\\x89\\xfb\\x10B\\xa1\\x15j7\\xb1\\x12\\xcf\\xdc{2\\xf1\\xcdh\\xb2nm\\xb6\\x82\\x88\\xc6\\xbbR\\x0c\\x8b\\x81\\xc8\\xc0U^\\x1b7/\\xc5\\xc7\\xec%\\xbf\\x17\\x19\\x92rZY\\xef\\xa0\\x14\\x1b@1\\x19__\\x8df\\x9b\\x00\\x98q\\xb7\\xc3R4D\\xe1AJ\\xac\\x1ah\\x15\\x16>\\x80\\xe3\\x9d\\xda\\xc7V\\x11\\xdf\\xc6\\xb9\\x0c\\xaaZ\\xa89\\xc8\\xdb\\xc1\\xe0NV\\xde\\x118\\xca\\xa9\\xd3\\x10\\xe3\\xd1\\x13\\xd4ji){^\\xf3\\xe3-I\\x04\\x8b\"{\\xdc\\x16v^\\xa5P!XS)bR\\xb9r\\xfa\\x97K\\xbes(\\xb83\\xd5`c\\x02\\xde0\\x86\\x90\\xbd\\x0e\\xdd\\xce\\xdf\\x06\\xbb\\xbe7\\x1eM4\\x1a\\xb2\\xa9\\x8a\\xf4\\xaaZ\\xc6\\x90k+\\xbf|\\\\|z\\xbf(\\x8e\\x8b\\xf4P\\xfa\\xba6\\x15h_-[\\x9e@\\x81!\\x82\\xd2\\xd8\\x00Pk\\x8b\\xb4\\x16\\xad2n\\xcf}\\xc4?\\x15\\xa3L\\xcb\\xf0\\xc2 \\xdd\\xfb%\\xe1\\x13\\x1c\\xc4\\xdf\\x1bd\\xba\\x9e\\x8f\\x90dN\\x18\"m,\\xe0\\xa5\\xc7\\x9eDO97*\\x82~\\xa7\\xc8\\xc9\\xb88\\xc0O\\xedc\\x1c|n\\xa6\\xd1\\x07\\xe4\\x04E\\xf8\\xff\\x14\\xf6\\x11\\xe9\\xba\\xf3\\xc0B\\x10\\xc9\\xc0!$}\\x87\\xed\\xe0\\xc8\\xe9;{\\xec\\xd0\\xe5[\\x83\\xee\\xf1\\x96\\xe9\\x7f2\\xfe\\x06\\x00\\x00\\xff\\xff\\x03\\x00PK\\x03\\x04\\x14\\x00\\x06\\x00\\x08\\x00\\x00\\x00!\\x00\\xb5U0#\\xf4\\x00\\x00\\x00L\\x02\\x00\\x00\\x0b\\x00\\x08\\x02_rels/.rels \\xa2\\x04\\x02(\\xa0\\x00\\x02\\x00\\x00\\x00\\x00\\x00\\x00\\x00\\x00\\x00\\x00\\x00\\x00\\x00\\x00\\x00\\x00\\x00\\x00\\x00\\x00\\x00\\x00\\x00\\x00\\x00\\x00\\x00\\x00\\x00\\x00\\x00\\x00\\x00\\x00\\x00\\x00\\x00\\x00\\x00\\x00\\x00\\x00\\x00\\x00\\x00\\x00\\x00\\x00\\x00\\x00\\x00\\x00\\x00\\x00\\x00\\x00\\x00\\x00\\x00\\x00\\x00\\x00\\x00\\x00\\x00\\x00\\x00\\x00\\x00\\x00\\x00\\x00\\x00\\x00\\x00\\x00\\x00\\x00\\x00\\x00\\x00\\x00\\x00\\x00\\x00\\x00\\x00\\x00\\x00\\x00\\x00\\x00\\x00\\x00\\x00\\x00\\x00\\x00\\x00\\x00\\x00\\x00\\x00\\x00\\x00\\x00\\x00\\x00\\x00\\x00\\x00\\x00\\x00\\x00\\x00\\x00\\x00\\x00\\x00\\x00\\x00\\x00\\x00\\x00\\x00\\x00\\x00\\x00\\x00\\x00\\x00\\x00\\x00\\x00\\x00\\x00\\x00\\x00\\x00\\x00\\x00\\x00\\x00\\x00\\x00\\x00\\x00\\x00\\x00\\x00\\x00\\x00\\x00\\x00\\x00\\x00\\x00\\x00\\x00\\x00\\x00\\x00\\x00\\x00\\x00\\x00\\x00\\x00\\x00\\x00\\x00\\x00\\x00\\x00\\x00\\x00\\x00\\x00\\x00\\x00\\x00\\x00\\x00\\x00\\x00\\x00\\x00\\x00\\x00\\x00\\x00\\x00\\x00\\x00\\x00\\x00\\x00\\x00\\x00\\x00\\x00\\x00\\x00\\x00\\x00\\x00\\x00\\x00\\x00\\x00\\x00\\x00\\x00\\x00\\x00\\x00\\x00\\x00\\x00\\x00\\x00\\x00\\x00\\x00\\x00\\x00\\x00\\x00\\x00\\x00\\x00\\x00\\x00\\x00\\x00\\x00\\x00\\x00\\x00\\x00\\x00\\x00\\x00\\x00\\x00\\x00\\x00\\x00\\x00\\x00\\x00\\x00\\x00\\x00\\x00\\x00\\x00\\x00\\x00\\x00\\x00\\x00\\x00\\x00\\x00\\x00\\x00\\x00\\x00\\x00\\x00\\x00\\x00\\x00\\x00\\x00\\x00\\x00\\x00\\x00\\x00\\x00\\x00\\x00\\x00\\x00\\x00\\x00\\x00\\x00\\x00\\x00\\x00\\x00\\x00\\x00\\x00\\x00\\x00\\x00\\x00\\x00\\x00\\x00\\x00\\x00\\x00\\x00\\x00\\x00\\x00\\x00\\x00\\x00\\x00\\x00\\x00\\x00\\x00\\x00\\x00\\x00\\x00\\x00\\x00\\x00\\x00\\x00\\x00\\x00\\x00\\x00\\x00\\x00\\x00\\x00\\x00\\x00\\x00\\x00\\x00\\x00\\x00\\x00\\x00\\x00\\x00\\x00\\x00\\x00\\x00\\x00\\x00\\x00\\x00\\x00\\x00\\x00\\x00\\x00\\x00\\x00\\x00\\x00\\x00\\x00\\x00\\x00\\x00\\x00\\x00\\x00\\x00\\x00\\x00\\x00\\x00\\x00\\x00\\x00\\x00\\x00\\x00\\x00\\x00\\x00\\x00\\x00\\x00\\x00\\x00\\x00\\x00\\x00\\x00\\x00\\x00\\x00\\x00\\x00\\x00\\x00\\x00\\x00\\x00\\x00\\x00\\x00\\x00\\x00\\x00\\x00\\x00\\x00\\x00\\x00\\x00\\x00\\x00\\x00\\x00\\x00\\x00\\x00\\x00\\x00\\x00\\x00\\x00\\x00\\x00\\x00\\x00\\x00\\x00\\x00\\x00\\x00\\x00\\x00\\x00\\x00\\x00\\x00\\x00\\x00\\x00\\x00\\x00\\x00\\x00\\x00\\x00\\x00\\x00\\x00\\x00\\x00\\x00\\x00\\x00\\x00\\x00\\x00\\x00\\x00\\x00\\x00\\x00\\x00\\x00\\x00\\x00\\x00\\x00\\x00\\x00\\x00\\x00\\x00\\x00\\x00\\x00\\x00\\x00\\x00\\x00\\x00\\x00\\x00\\x00\\x00\\x00\\x00\\x00\\x00\\x00\\x00\\x00\\x00\\x00\\x00\\x00\\x00\\x00\\x00\\x00\\x00\\x00\\x00\\x00\\x00\\xac\\x92MO\\xc30\\x0c\\x86\\xefH\\xfc\\x87\\xc8\\xf7\\xd5\\xdd\\x90\\x10BKwAH\\xbb!T~\\x80I\\xdc\\x0f\\xb5\\x8d\\xa3$\\x1b\\xdd\\xbf\\'\\x1c\\x10T\\x1a\\x83\\x03G\\x7f\\xbd~\\xfc\\xca\\xdb\\xdd<\\x8d\\xea\\xc8!\\xf6\\xe24\\xac\\x8b\\x12\\x14;#\\xb6w\\xad\\x86\\x97\\xfaqu\\x07*&r\\x96Fq\\xac\\xe1\\xc4\\x11v\\xd5\\xf5\\xd5\\xf6\\x99GJy(v\\xbd\\x8f*\\xab\\xb8\\xa8\\xa1K\\xc9\\xdf#F\\xd3\\xf1D\\xb1\\x10\\xcf.W\\x1a\\t\\x13\\xa5\\x1c\\x86\\x16=\\x99\\x81Z\\xc6MY\\xdeb\\xf8\\xae\\x01\\xd5BS\\xed\\xad\\x86\\xb0\\xb77\\xa0\\xea\\x93\\xcf\\x9b\\x7f\\xd7\\x96\\xa6\\xe9\\r?\\x889L\\xec\\xd2\\x99\\x15\\xc8sbg\\xd9\\xae|\\xc8l!\\xf5\\xf9\\x1aUSh9i\\xb0b\\x9er:\"y_dl\\xc0\\xf3D\\x9b\\xbf\\x13\\xfd|-N\\x9c\\xc8R\"4\\x12\\xf82\\xcfG\\xc7%\\xa0\\xf5\\x7fZ\\xb44\\xf1\\xcb\\x9dy\\xc47\\t\\xc3\\xab\\xc8\\xf0\\xc9\\x82\\x8b\\x1f\\xa8\\xde\\x01\\x00\\x00\\xff\\xff\\x03\\x00PK\\x03\\x04\\x14\\x00\\x06\\x00\\x08\\x00\\x00\\x00!\\x005\\x08\\xb4[U\\x03\\x00\\x00\\xdf\\x07\\x00\\x00\\x0f\\x00\\x00\\x00xl/workbook.xml\\xacUmo\\xa38\\x10\\xfe~\\xd2\\xfd\\x07\\xc4w\\x8am^BP\\xe9*\\x84\\xa0\\xab\\xb4\\xbb\\xaa\\xda\\\\\\xfb%\\xd2\\xc9\\x05\\x13\\xac\\x00\\xe6\\x8ciRU\\xfb\\xdfo\\x0c!m\\xb7\\xabU\\xb7{Ujc\\x8fy\\xfc\\xcc\\xcc3\\xc3\\xf9\\xa7C]\\x19\\x0fLv\\\\4\\x91\\x89\\xcf\\x90i\\xb0&\\x139o\\xb6\\x91\\xf9\\xf7:\\xb5\\x02\\xd3\\xe8\\x14mrZ\\x89\\x86E\\xe6#\\xeb\\xccO\\x17\\x7f\\xfeq\\xbe\\x17rw/\\xc4\\xce\\x00\\x80\\xa6\\x8b\\xccR\\xa96\\xb4\\xed.+YM\\xbb3\\xd1\\xb2\\x06,\\x85\\x905U\\xb0\\x94[\\xbbk%\\xa3yW2\\xa6\\xea\\xca&\\x08\\xf9vMyc\\x8e\\x08\\xa1|\\x0f\\x86(\\n\\x9e\\xb1Dd}\\xcd\\x1a5\\x82HVQ\\x05\\xf4\\xbb\\x92\\xb7\\xdd\\x84Vg\\xef\\x81\\xab\\xa9\\xdc\\xf5\\xad\\x95\\x89\\xba\\x05\\x88{^q\\xf58\\x80\\x9aF\\x9d\\x85\\x97\\xdbFHz_\\x81\\xdb\\x07\\xec\\x19\\x07\\t?\\x1f\\xfe1\\x82\\x81L7\\x81\\xe9\\xcdU5\\xcf\\xa4\\xe8D\\xa1\\xce\\x00\\xda\\x1eI\\xbf\\xf1\\x1f#\\x1b\\xe3W!8\\xbc\\x8d\\xc1\\xfb\\x90\\\\[\\xb2\\x07\\xaesxb%\\xfd\\x0f\\xb2\\xf2OX\\xfe3\\x18F\\xbf\\x8d\\x86AZ\\x83VB\\x08\\xde\\x07\\xd1\\xbc\\x137b^\\x9c\\x17\\xbcb\\xb7\\xa3t\\r\\xda\\xb6_i\\xad3U\\x99FE;\\xb5\\xca\\xb9byd\\xce`)\\xf6\\xec\\xd5\\x86\\xec\\xdb\\xb8\\xe7\\x15X\\t\\xf1\\xc8\\xcc\\xb4/Nr\\xbe\\x92F\\xce\\n\\xdaWj\\rB\\x9e\\xe0\\xa12|\\x7fN<}\\x12\\x84\\xb1\\xa8\\x14\\x93\\rUl)\\x1a\\x05:<\\xfa\\xf5\\xbb\\x9a\\x1b\\xb0\\x97\\xa5\\x00\\x85\\x1b\\xd7\\xec\\xdf\\x9eK\\x06\\x85\\x05\\xfa\\x02_a\\xa4YH\\xef\\xbb+\\xaaJ\\xa3\\x97Ud&\\xe1\\xe6\\xe6\\xcb\\xda\\x98m\\x12\\xaa\\xa8\\xb1h(\\xa8\\x97\\xef6\\xeb~K\\xbb\\xcd\\x1dc;\\xc3\\xd9\\xbc\\x10)}[\\x11\\xbf S\\x9ai\\xdfmp~$8>\\x7f\\x1f\\x08\\xe0)\\xc3I\\x8aWJ\\x1a\\xf0|\\x99|\\x86t\\xdc\\xd0\\x07H\\x0eH ?\\xd6\\xee%D?\\xf8\\xe7\\t-W\\xcb\\xd4w<\\xcb\\xc3+\\xdfrc\\x84\\xac\\x80\\x04\\x8e\\x85S\\xd7G\\x08\\x91\\xc4E\\xce7\\xf0B\\xfaa&h\\xaf\\xcac\\xc25fd\\xba\\xde\\x0fL_\\xe8a\\xb2`\\x14\\xf6<\\x7f\\xbe\\xff\\t \\x87?K\\x8f\\xdf\\r\\x93\\xed\\x9b\\xf6T\\xb7\\xb6[\\xce\\xf6\\xdd\\xb34\\xf4\\xd28\\xdc\\xf1&\\x17\\xfb\\xc8\\xb40\\x82\\xd6\\xf8\\xf8z\\xb9\\x1f\\x8cw<W%h\\xcb!\\x1e\\x94\\xd0\\xb8\\xf7\\x17\\xe3\\xdb\\x12\\x18c\\xe2\\xcdt]I\\xa2\\x99E\\xe6\\x93\\x83\\x12\\x1c;xf\\x11\\xb2p-\\xd7\\xf7\\x03+p\\x13b!\\x9c\\xce\\x08\\nR\\x7f\\xe1\\'\\x03#\\xfb\\x05\\xa5\\xa1\\x89\\x02\\xb5a6\\x9aA\\xf87\\xba\\xb1b\\xe8\\xd6z\\xd6\\xd1\\x85g\\x19\\xea;\\xe4e\\x8e\\x87\\xecM\\xafe\\xb4\\xca@\\xe8z\\x1a\\x0e\\xce1\"s}\\x82\\x1d\\xd4\\xe7N\\r3h\\x8c\\x03=\\xec\\xa2\\xc5\\x0c\\xcd]\\x0b\\xad In0\\'@\\xcf!\\xd6\\x128\\xae\\xbc\\xd9*Y\\xc5\\x9e\\xce\\x8f\\xfe\\x08\\x84\\xffG+\\x1c\\xa4\\x1eN_\\x17\\xcd\\xb2\\xa4R\\xad%\\xcdv\\xf0M\\xbafEL;P\\xd2\\xe8\\x10\\xf0}I6\\xf6\\x82\\x189@\\xd1Mqj\\xb9x\\x8e\\xac8\\xf6]\\xcbKR\\xc7\\x9b\\xe1d\\xb9\\xf2\\xd2g\\xb2\\xda\\xfd\\xe2\\x83\\x8d(\\xb0\\x87\\xb7\\x19U=\\x14\\xa9\\xae\\xcfa\\x1d\\xea1=\\xee\\x9e6\\x8bq\\xe3\\x98\\xa7WE\\x17^\\':\\xee\\xc7\\xb7\\x7fv0\\xbd\\x1dR\\xf8\\xc3{\\xec!\\x0ez\\x1c\\xb2gO\\xd1\\xbb\\xf8\\x0f\\x00\\x00\\xff\\xff\\x03\\x00PK\\x03\\x04\\x14\\x00\\x06\\x00\\x08\\x00\\x00\\x00!\\x00\\x81>\\x94\\x97\\xf3\\x00\\x00\\x00\\xba\\x02\\x00\\x00\\x1a\\x00\\x08\\x01xl/_rels/workbook.xml.rels \\xa2\\x04\\x01(\\xa0\\x00\\x01\\x00\\x00\\x00\\x00\\x00\\x00\\x00\\x00\\x00\\x00\\x00\\x00\\x00\\x00\\x00\\x00\\x00\\x00\\x00\\x00\\x00\\x00\\x00\\x00\\x00\\x00\\x00\\x00\\x00\\x00\\x00\\x00\\x00\\x00\\x00\\x00\\x00\\x00\\x00\\x00\\x00\\x00\\x00\\x00\\x00\\x00\\x00\\x00\\x00\\x00\\x00\\x00\\x00\\x00\\x00\\x00\\x00\\x00\\x00\\x00\\x00\\x00\\x00\\x00\\x00\\x00\\x00\\x00\\x00\\x00\\x00\\x00\\x00\\x00\\x00\\x00\\x00\\x00\\x00\\x00\\x00\\x00\\x00\\x00\\x00\\x00\\x00\\x00\\x00\\x00\\x00\\x00\\x00\\x00\\x00\\x00\\x00\\x00\\x00\\x00\\x00\\x00\\x00\\x00\\x00\\x00\\x00\\x00\\x00\\x00\\x00\\x00\\x00\\x00\\x00\\x00\\x00\\x00\\x00\\x00\\x00\\x00\\x00\\x00\\x00\\x00\\x00\\x00\\x00\\x00\\x00\\x00\\x00\\x00\\x00\\x00\\x00\\x00\\x00\\x00\\x00\\x00\\x00\\x00\\x00\\x00\\x00\\x00\\x00\\x00\\x00\\x00\\x00\\x00\\x00\\x00\\x00\\x00\\x00\\x00\\x00\\x00\\x00\\x00\\x00\\x00\\x00\\x00\\x00\\x00\\x00\\x00\\x00\\x00\\x00\\x00\\x00\\x00\\x00\\x00\\x00\\x00\\x00\\x00\\x00\\x00\\x00\\x00\\x00\\x00\\x00\\x00\\x00\\x00\\x00\\x00\\x00\\x00\\x00\\x00\\x00\\x00\\x00\\x00\\x00\\x00\\x00\\x00\\x00\\x00\\x00\\x00\\x00\\x00\\x00\\x00\\x00\\x00\\x00\\x00\\x00\\x00\\x00\\x00\\x00\\x00\\x00\\x00\\x00\\x00\\x00\\x00\\x00\\x00\\x00\\x00\\x00\\x00\\x00\\x00\\x00\\x00\\x00\\x00\\x00\\x00\\x00\\x00\\x00\\x00\\x00\\x00\\x00\\x00\\x00\\x00\\xacRMK\\xc40\\x10\\xbd\\x0b\\xfe\\x870w\\x9bv\\x15\\x11\\xd9t/\"\\xecU\\xeb\\x0f\\x08\\xc9\\xb4)\\xdb&!3~\\xf4\\xdf\\x1b*\\xba]X\\xd6K/\\x03o\\x86y\\xef\\xcd\\xc7v\\xf75\\x0e\\xe2\\x03\\x13\\xf5\\xc1+\\xa8\\x8a\\x12\\x04z\\x13l\\xef;\\x05o\\xcd\\xf3\\xcd\\x03\\x08b\\xed\\xad\\x1e\\x82G\\x05\\x13\\x12\\xec\\xea\\xeb\\xab\\xed\\x0b\\x0e\\x9as\\x13\\xb9>\\x92\\xc8,\\x9e\\x148\\xe6\\xf8(%\\x19\\x87\\xa3\\xa6\"D\\xf4\\xb9\\xd2\\x864j\\xce0u2js\\xd0\\x1d\\xcaMY\\xde\\xcb\\xb4\\xe4\\x80\\xfa\\x84S\\xec\\xad\\x82\\xb4\\xb7\\xb7 \\x9a)f\\xe5\\xff\\xb9C\\xdb\\xf6\\x06\\x9f\\x82y\\x1f\\xd1\\xf3\\x19\\tI<\\ry\\x00\\xd1\\xe8\\xd4!+\\xf8\\xc1E\\xf6\\x08\\xf2\\xbc\\xfcfMy\\xcek\\xc1\\xa3\\xfa\\x0c\\xe5\\x1c\\xabK\\x1e\\xaa5=|\\x86t \\x87\\xc8G\\x1f\\x7f)\\x92s\\xe5\\xa2\\x99\\xbbU\\xef\\xe1tB\\xfb\\xca)\\xbf\\xdb\\xf2,\\xcb\\xf4\\xeff\\xe4\\xc9\\xc7\\xd5\\xdf\\x00\\x00\\x00\\xff\\xff\\x03\\x00PK\\x03\\x04\\x14\\x00\\x06\\x00\\x08\\x00\\x00\\x00!\\x00?\\xb4\\xbc\\x88k\\x04\\x00\\x00\\x0f\\x11\\x00\\x00\\x18\\x00\\x00\\x00xl/worksheets/sheet1.xml\\x9cX\\xdf\\x8f\\xa36\\x10~\\xaf\\xd4\\xff\\x01\\xf1\\x9e\\x80!\\xe1G\\x14rZ\\x02\\xd9\\xdeC\\xa5\\xaa\\xbdk\\x9f\\tq\\x12\\xb4\\x80S \\x9b]\\x9d\\xfa\\xbfw\\x0ck0cN\\xe2N\\xda\\xdd$;\\xdf|c\\x7f\\x9e\\x19<\\xd9~z+r\\xed\\x95Vu\\xc6\\xca@\\'KS\\xd7h\\x99\\xb2SV^\\x02\\xfd\\xeb\\x97\\xc3\\xc2\\xd3\\xb5\\xbaI\\xcaS\\x92\\xb3\\x92\\x06\\xfa;\\xad\\xf5O\\xbb_\\x7f\\xd9>X\\xf5R_)m4`(\\xeb@\\xbf6\\xcdmc\\x18uz\\xa5ER/\\xd9\\x8d\\x96`9\\xb3\\xaaH\\x1a\\xf8X]\\x8c\\xfaV\\xd1\\xe4\\xd4:\\x15\\xb9a\\x99\\xa6c\\x14IV\\xea\\x1d\\xc3\\xa6\\x9a\\xc3\\xc1\\xce\\xe7,\\xa5\\x11K\\xef\\x05-\\x9b\\x8e\\xa4\\xa2y\\xd2\\xc0\\xfa\\xebkv\\xab\\x05[\\x91\\xce\\xa1+\\x92\\xea\\xe5~[\\xa4\\xac\\xb8\\x01\\xc51\\xcb\\xb3\\xe6\\xbd%\\xd5\\xb5\"\\xdd|\\xbe\\x94\\xacJ\\x8e9\\xec\\xfb\\x8d\\xac\\x92T{\\xab\\xe0\\xc7\\x82_[\\x84i\\xff\\xafD*\\xb2\\xb4b5;7K`6\\xba5\\xab\\xdb\\xf7\\r\\xdfH\\xd2\\x9eI\\xdd\\xff,\\x1a\\xb22*\\xfa\\x9a\\xf1\\x03\\x1c\\xa8\\xac\\x9f[\\x12Y\\xf7\\\\\\xd6@f\\xff$\\x99\\xd3\\x93q\\xb9\\xaa\\xcd=;\\x05\\xfa7\\xd7s\\x9d\\xc3\\x93\\x13/l\\x12;\\x8bU\\x18\\xc5\\x8b\\xd0\\\\[\\x8bC\\xf4\\x14\\xfa\\x91gy\\xa6O\\xfe\\xd3w\\xdbS\\x06\\'\\xccw\\xa5U\\xf4\\x1c\\xe8Od\\xf3L\\x88n\\xec\\xb6m\\x02\\xfd\\x9d\\xd1G-\\xbd\\xd7\\x9a\\xe4\\xf8\\x17\\xcdi\\xdaP\\x08Bt\\x8d\\xe7\\xe7\\x91\\xb1\\x17\\x0e\\xfc\\x0c\\xff2\\x81\\xb2n\\x01\\x9c\\xb2\\xfe\\x17\\x91\\x1a=\\xebn;\\xbc\\x17\\x11\\x0em\\x16\\xffQi\\'zN\\xeey\\xf3\\'{\\xfcF\\xb3\\xcb\\xb5\\x81P\\xab\\xe5\\nv\\xc7\\xd3csz\\x8fh\\x9dB^B\\xb8\\xa5\\xcd\\xd7\\x9a\\xb2\\x1c8\\xe0\\xafVd\\xbc\\xbe \\xad\\x92\\xb7@\\x07=\\x1e\\xd9\\xa9\\xb9\\x06\\xba\\xb7\\xf4<\\xc7%\\x9e\\xbb\\xe6u\\xf6\\xceS\\xad\\xddd\\xef\\x02\\xe4\\xad\\x0b\\xbc~\\xb8X\\xeb%1}{\\xe4\\xa1\\xa5\\xf7\\xbaa\\xc5?\\x1d\\xe9\\x98\\x01\\x98[\\x06g~P\\xf7\\xc3\\x05^EP\\xb2t]\\xd7^\\xcd\\x0f\\x0b\\x8d\\xa3\\rK\\x1c\\xdb\\x1b\\x16\\xff\\xbd\\xfd\\x1a\\x9dR\\xed)DI\\x93\\xec\\xb6\\x15{hP\\x12 Y}Kx\\x83!\\x1bX\\xce\\xa4\\xd0\\xa00\\x87>ql\\xa0C\\xe6\\xc2\\x01\\xd4p\\xde\\xaf;sk\\xbc\\xc2\\x81\\xa6\\x1f\\x88PE\\x901b\\xaf\"\\xac1\"R\\x11\\xf6\\x18\\x11\\xab\\x88\\xd5\\x18qP\\x11\\xeb1\\xe2YE8=\\xc2\\x00mz\\x81`\\xbb\\xb3\\x05\\xe2X.\\x10\\x97\\x06m<\\x1c\\xd9L\\x17\\xedz/\\xcc\\x83\\xb6.\\xd2EE\\x10\\x04\\x89\\xe5\\x18(\\xc0AuG\\x87\\xf7\\xac\",oZ\\x13\\xa8\\xaf\\xd9\\x9ap\\xac\\xd0\\x04\\xad)\\x94m\\x84\\xac\\xd0\\x19\\xed\\x85y\\xd0dXO\\x9b\\x91\\x91\\x8a \\x08\\x12\\xcb1P\"\\x1dTw\\x0bI\\xfa<\\x01\\xf1\\xa7E\\x81\"\\x9c-\\n\\xc7\\nQ\\xd0\\xa2B\\xd9F,\\x0f\\x17\\x900\\x0f\\xa2\\x0c\\xeb\\xe9DQ\\x11\\x04Ab9\\x06N\\x14\\xd5]\\x11E\\x85\\xd8C2\\x8d\\xaa\\x87\\xb7\\xdd\\xb9\\xed\\x85c\\x85(\\xa8\\xa0C\\xd9FVR\\xb4v\\xcb{a\\x1eD!(\\xbb#\\x15b!H<\\n\\x82:\\x8a\\xea\\x8e\\xcbGE\\xd8\\xc3\\xd9\\x8dD\\x81\\'\\xc5lQ8V\\x88\\x82\\xea#\\x94md\\xed\\xa3C\\xde\\x0b\\xb3$\\nJ\\xa6H\\x85X\\x08\\x12\\xcbAp\\xfd\\xa8\\xeeX\\x14\\x15a\\x0f\\xf96\\x12\\x05\\x1e>\\xb3E\\xe1X!\\xca\\xd0\\xb6\\xdbT\\x08e\\x1bq\\xf0v\\xf6\\xc2,\\x89\\x82\\x1f@*\\xc4B\\x90X\\x0e\\x82\\xebg\\xc2\\x1d7\\x15\\x15b\\x0f\\xd2\\x8eT\\xe1\\xe3\\xc1\\xdc\\xfa\\xe1X\\xa1\\n\\x8a\\x18\\xca6\\xe2x\\xa8I\\xee\\x85YR\\x05\\x9du\\xa4B,\\xfc\\\\\\x96\\x83`UTw\\x9c**\\xc2\\x1e\\xba\\xc0H\\x14\\xff\\x07D\\xe1X!\\n\\xdau(\\xdb\\x88\\xeb\\xe3\\xc7\\x8f0K\\xa2\\xa0\\xb6\\x14\\xa9\\x10\\x0bA\\xe2Q\\x10\\xd4T&\\xdcq\\xaa\\xa8\\x10{X\\xe7H\\x15\\x02\\xb3\\xe5\\xfc\\xab\\x1c\\x07\\x0b]P\\xe3\\x08[\\xa6\\xfe\\x1e\\xe3)\\xd9\\xd2\\xdb%e\\x90x\\xd1\\x04\\xc6B\\x98x\\x14\\x07\\xf7\\x96\\t\\x02\\x9c1\\x13\\x10\\xfb;\\xb78\\x18m~@\\x1cq9l\\xefq\\xca\\x1dwd\\xf5\\xf1\\x81\\xef\\xdbP\\xe3k2AM*\\x9a\\xc0X\\x08\\x13\\xf7\\x18\\xbe\\n\\\\N\\x13\\x04\\x8a:\\x13\\x17\\xe9!\\xbb\\xba\\xd4\\xe9F\\xb1n \\xb8%\\x17\\xfa{R]\\xb2\\xb2\\xd6rzn\\x87,hTU7\\x87\\x99Kx\\xdf\\xb0\\x1b\\x1f\\xbd\\xf8htd\\r\\x0cD\\xe2\\xd3\\x15\\xbex\\xa00\"\\xf0\\xb1L;3\\xd6\\x88\\x0f0\\xa3\\x19\\xfdW\\x19\\xbb\\xff\\x01\\x00\\x00\\xff\\xff\\x03\\x00PK\\x03\\x04\\x14\\x00\\x06\\x00\\x08\\x00\\x00\\x00!\\x00\\xc1\\x17\\x10\\xbeN\\x07\\x00\\x00\\xc6 \\x00\\x00\\x13\\x00\\x00\\x00xl/theme/theme1.xml\\xecY\\xcd\\x8b\\x1b7\\x14\\xbf\\x17\\xfa?\\x0csw\\xfc5\\xe3\\x8f%\\xde\\xe0\\xcfl\\x93\\xdd$d\\x9d\\x94\\x1c\\xb5\\xb6\\xecQV32\\x92\\xbc\\x1b\\x13\\x02%9\\xf5R(\\xa4\\xa5\\x97Bo=\\x94\\xd2@\\x03\\r\\xbd\\xf4\\x8f\\t$\\xb4\\xe9\\x1f\\xd1\\'\\xcd\\xd8#\\xad\\xe5$\\x9blJZv\\r\\x8bG\\xfe\\xbd\\xa7\\xa7\\xf7\\x9e~z\\xf3t\\xf1\\xd2\\xbd\\x98zG\\x98\\x0b\\xc2\\x92\\x96_\\xbeP\\xf2=\\x9c\\x8c\\xd8\\x98$\\xd3\\x96\\x7fk8(4|OH\\x94\\x8c\\x11e\\tn\\xf9\\x0b,\\xfcK\\xdb\\x9f~r\\x11m\\xc9\\x08\\xc7\\xd8\\x03\\xf9Dl\\xa1\\x96\\x1fI9\\xdb*\\x16\\xc5\\x08\\x86\\x91\\xb8\\xc0f8\\x81\\xdf&\\x8c\\xc7H\\xc2#\\x9f\\x16\\xc7\\x1c\\x1d\\x83\\xde\\x98\\x16+\\xa5R\\xad\\x18#\\x92\\xf8^\\x82bP{}2!#\\xec\\r\\x95J\\x7f{\\xa9\\xbcO\\xe11\\x91B\\r\\x8c(\\xdfW\\xaa\\xb1%\\xa1\\xb1\\xe3\\xc3\\xb2B\\x88\\x85\\xe8R\\xee\\x1d!\\xda\\xf2a\\x9e1;\\x1e\\xe2{\\xd2\\xf7(\\x12\\x12~h\\xf9%\\xfd\\xe7\\x17\\xb7/\\x16\\xd1V&D\\xe5\\x06YCn\\xa0\\xff2\\xb9L`|X\\xd1s\\xf2\\xe9\\xc1j\\xd2 \\x08\\x83Z{\\xa5_\\x03\\xa8\\\\\\xc7\\xf5\\xeb\\xfdZ\\xbf\\xb6\\xd2\\xa7\\x01h4\\x82\\x95\\xa6\\xb6\\xd8:\\xeb\\x95n\\x90a\\rP\\xfa\\xd5\\xa1\\xbbW\\xefU\\xcb\\x16\\xde\\xd0_]\\xb3\\xb9\\x1d\\xaa\\x8f\\x85\\xd7\\xa0T\\x7f\\xb0\\x86\\x1f\\x0c\\xba\\xe0E\\x0b\\xafA)>\\\\\\xc3\\x87\\x9df\\xa7g\\xeb\\xd7\\xa0\\x14_[\\xc3\\xd7K\\xed^P\\xb7\\xf4kPDIr\\xb8\\x86.\\x85\\xb5jw\\xb9\\xda\\x15d\\xc2\\xe8\\x8e\\x13\\xde\\x0c\\x83A\\xbd\\x92)\\xcfQ\\x90\\r\\xab\\xecRSLX\"7\\xe5Z\\x8c\\xee2>\\x00\\x80\\x02R$I\\xe2\\xc9\\xc5\\x0cO\\xd0\\x08\\xb2\\xb8\\x8b(9\\xe0\\xc4\\xdb%\\xd3\\x08\\x12o\\x86\\x12&`\\xb8T)\\rJU\\xf8\\xaf>\\x81\\xfe\\xa6#\\x8a\\xb602\\xa4\\x95]`\\x89X\\x1bR\\xf6xb\\xc4\\xc9L\\xb6\\xfc+\\xa0\\xd57 /\\x9e={\\xfe\\xf0\\xe9\\xf3\\x87\\xbf=\\x7f\\xf4\\xe8\\xf9\\xc3_\\xb2\\xb9\\xb5*Kn\\x07%SS\\xee\\xd5\\x8f_\\xff\\xfd\\xfd\\x17\\xde_\\xbf\\xfe\\xf0\\xea\\xf17\\xe9\\xd4\\'\\xf1\\xc2\\xc4\\xbf\\xfc\\xf9\\xcb\\x97\\xbf\\xff\\xf1:\\xf5\\xb0\\xe2\\xdc\\x15/\\xbe}\\xf2\\xf2\\xe9\\x93\\x17\\xdf}\\xf5\\xe7O\\x8f\\x1d\\xda\\xdb\\x1c\\x1d\\x98\\xf0!\\x89\\xb1\\xf0\\xae\\xe1c\\xef&\\x8ba\\x81\\x0e\\xfb\\xf1\\x01?\\x9d\\xc40B\\xc4\\x92@\\x11\\xe8v\\xa8\\xee\\xcb\\xc8\\x02^[ \\xea\\xc2u\\xb0\\xed\\xc2\\xdb\\x1cX\\xc6\\x05\\xbc<\\xbfk\\xd9\\xba\\x1f\\xf1\\xb9$\\x8e\\x99\\xafF\\xb1\\x05\\xdcc\\x8cv\\x18w:\\xe0\\xaa\\x9a\\xcb\\xf0\\xf0p\\x9eL\\xdd\\x93\\xf3\\xb9\\x89\\xbb\\x89\\xd0\\x91k\\xee.J\\xac\\x00\\xf7\\xe73\\xa0W\\xe2R\\xd9\\x8d\\xb0e\\xe6\\r\\x8a\\x12\\x89\\xa68\\xc1\\xd2S\\xbf\\xb1C\\x8c\\x1d\\xab\\xbbC\\x88\\xe5\\xd7=2\\xe2L\\xb0\\x89\\xf4\\xee\\x10\\xaf\\x83\\x88\\xd3%Cr`%R.\\xb4Cb\\x88\\xcb\\xc2e \\x84\\xda\\xf2\\xcd\\xdem\\xaf\\xc3\\xa8k\\xd5=|d#a[ \\xea0~\\x88\\xa9\\xe5\\xc6\\xcbh.Q\\xecR9D15\\x1d\\xbe\\x8bd\\xe42r\\x7f\\xc1G&\\xae/$Dz\\x8a)\\xf3\\xfac,\\x84K\\xe6:\\x87\\xf5\\x1aA\\xbf\\n\\x0c\\xe3\\x0e\\xfb\\x1e]\\xc46\\x92Kr\\xe8\\xd2\\xb9\\x8b\\x183\\x91=v\\xd8\\x8dP<s\\xdaL\\x92\\xc8\\xc4~&\\x0e!E\\x91w\\x83I\\x17|\\x8f\\xd9;D=C\\x1cP\\xb21\\xdc\\xb7\\t\\xb6\\xc2\\xfdf\"\\xb8\\x05\\xe4j\\x9a\\x94\\'\\x88\\xfae\\xce\\x1d\\xb1\\xbc\\x8c\\x99\\xbd\\x1f\\x17t\\x82\\xb0\\x8be\\xda<\\xb6\\xd8\\xb5\\xcd\\x893;:\\xf3\\xa9\\x95\\xda\\xbb\\x18St\\x8c\\xc6\\x18{\\xb7>sX\\xd0a3\\xcb\\xe7\\xb9\\xd1W\"`\\x95\\x1d\\xecJ\\xac+\\xc8\\xceU\\xf5\\x9c`\\x01e\\x92\\xaak\\xd6)r\\x97\\x08+e\\xf7\\xf1\\x94m\\xb0goq\\x82x\\x16(\\x89\\x11\\xdf\\xa4\\xf9\\x1aD\\xddJ]8\\xe5\\x9cTz\\x9d\\x8e\\x0eM\\xe05\\x02\\xe5\\x1f\\xe4\\x8b\\xd3)\\xd7\\x05\\xe80\\x92\\xbb\\xbfI\\xeb\\x8d\\x08Yg\\x97z\\x16\\xee|]p+~o\\xb3\\xc7`_\\xde=\\xed\\xbe\\x04\\x19|j\\x19 \\xf6\\xb7\\xf6\\xcd\\x10Qk\\x82<a\\x86\\x08\\n\\x0c\\x17\\xdd\\x82\\x88\\x15\\xfe\\\\D\\x9d\\xabZl\\xee\\x94\\x9b\\xd8\\x9b6\\x0f\\x03\\x14FV\\xbd\\x13\\x93\\xe4\\x8d\\xc5\\xcf\\x89\\xb2\\'\\xfcw\\xca\\x1ew\\x01s\\x06\\x05\\x8f[\\xf1\\xfb\\x94:\\x9b(e\\xe7D\\x81\\xb3\\t\\xf7\\x1f,kzh\\x9e\\xdc\\xc0p\\x92\\xacs\\xd6yUs^\\xd5\\xf8\\xff\\xfb\\xaaf\\xd3^>\\xafe\\xcek\\x99\\xf3Z\\xc6\\xf5\\xf6\\xf5Aj\\x99\\xbc|\\x81\\xca&\\xef\\xf2\\xe8\\x9eO\\xbc\\xb1\\xe53!\\x94\\xee\\xcb\\x05\\xc5\\xbbBw}\\x04\\xbc\\xd1\\x8c\\x070\\xa8\\xdbQ\\xba\\'\\xb9j\\x01\\xce\"\\xf8\\x9a5\\x98,\\xdc\\x94#-\\xe3q&?\\'2\\xda\\x8f\\xd0\\x0cZCe\\xdd\\xc0\\x9c\\x8aL\\xf5Tx3&\\xa0c\\xa4\\x87u+\\x15\\x9f\\xd0\\xad\\xfbN\\xf3x\\x8f\\x8d\\xd3Ng\\xb9\\xac\\xba\\x9a\\xa9\\x0b\\x05\\x92\\xf9x)\\\\\\x8dC\\x97J\\xa6\\xe8Z=\\xef\\xde\\xad\\xd4\\xeb~\\xe8TwY\\x97\\x06(\\xd9\\xd3\\x18aLf\\x1bQu\\x18Q_\\x0eB\\x14^g\\x84^\\xd9\\x99X\\xd1tX\\xd1P\\xea\\x97\\xa1ZFq\\xe5\\n0m\\x15\\x15x\\xe5\\xf6\\xe0E\\xbd\\xe5\\x87A\\xdaA\\x86f\\x1c\\x94\\xe7c\\x15\\xa7\\xb4\\x99\\xbc\\x8c\\xae\\n\\xce\\x99Fz\\x933\\xa9\\x99\\x01Pb/3 \\x8ftS\\xd9\\xbaqyjui\\xaa\\xbdE\\xa4-#\\x8ct\\xb3\\x8d0\\xd20\\x82\\x17\\xe1,;\\xcd\\x96\\xfbY\\xc6\\xba\\x99\\x87\\xd42O\\xb9b\\xb9\\x1br3\\xea\\x8d\\x0f\\x11kE\"\\'\\xb8\\x81&&S\\xd0\\xc4;n\\xf9\\xb5j\\x08\\xb7*#4k\\xf9\\x13\\xe8\\x18\\xc3\\xd7x\\x06\\xb9#\\xd4[\\x17\\xa2S\\xb8v\\x19I\\x9en\\xf8wa\\x96\\x19\\x17\\xb2\\x87D\\x94:\\\\\\x93N\\xca\\x061\\x91\\x98{\\x94\\xc4-_-\\x7f\\x95\\r4\\xd1\\x1c\\xa2m+W\\x80\\x10>Z\\xe3\\x9a@+\\x1f\\x9bq\\x10t;\\xc8x2\\xc1#i\\x86\\xdd\\x18Q\\x9eN\\x1f\\x81\\xe1S\\xaep\\xfe\\xaa\\xc5\\xdf\\x1d\\xac$\\xd9\\x1c\\xc2\\xbd\\x1f\\x8d\\x8f\\xbd\\x03:\\xe77\\x11\\xa4XX/+\\x07\\x8e\\x89\\x80\\x8b\\x83r\\xea\\xcd1\\x81\\x9b\\xb0\\x15\\x91\\xe5\\xf9w\\xe2`\\xcah\\xd7\\xbc\\x8a\\xd29\\x94\\x8e#:\\x8bPv\\xa2\\x98d\\x9e\\xc25\\x89\\xae\\xcc\\xd1O+\\x1f\\x18O\\xd9\\x9a\\xc1\\xa1\\xeb.<\\x98\\xaa\\x03\\xf6\\xbdO\\xdd7\\x1f\\xd5\\xcas\\x06i\\xe6g\\xa6\\xc5*\\xea\\xd4t\\x93\\xe9\\x87;\\xe4\\r\\xab\\xf2C\\xd4\\xb2*\\xa5n\\xfdN-r\\xaek.\\xb9\\x0e\\x12\\xd5yJ\\xbc\\xe1\\xd4}\\x8b\\x03\\xc10-\\x9f\\xcc2MY\\xbcN\\xc3\\x8a\\xb3\\xb3Q\\xdb\\xb43,\\x08\\x0cO\\xd46\\xf8muF8=\\xf1\\xae\\'?\\xc8\\x9d\\xccZu@,\\xebJ\\x9d\\xf8\\xfa\\xca\\xdc\\xbc\\xd5f\\x07w\\x81<zp\\x7f8\\xa7R\\xe8PBo\\x97#(\\xfa\\xd2\\x1b\\xc8\\x946`\\x8b\\xdc\\x93Y\\x8d\\x08\\xdf\\xbc9\\'-\\xff~)l\\x07\\xddJ\\xd8-\\x94\\x1aa\\xbf\\x10T\\x83R\\xa1\\x11\\xb6\\xab\\x85v\\x18V\\xcb\\xfd\\xb0\\\\\\xeau*\\x0f\\xe0`\\x91Q\\\\\\x0e\\xd3\\xeb\\xfa\\x01\\\\a\\xd0Evi\\xaf\\xc7\\xd7.\\xee\\xe3\\xe5-\\xcd\\x85\\x11\\x8b\\x8bL_\\xcc\\x17\\xb5\\xe1\\xfa\\xe2\\xbe\\\\\\xd9|q\\xef\\x11 \\x9d\\xfb\\xb5\\xca\\xa0Ymvj\\x85f\\xb5=(\\x04\\xbdN\\xa3\\xd0\\xec\\xd6:\\x85^\\xad[\\xef\\rz\\xdd\\xb0\\xd1\\x1c<\\xf0\\xbd#\\r\\x0e\\xda\\xd5nP\\xeb7\\n\\xb5r\\xb7[\\x08j%e~\\xa3Y\\xa8\\x07\\x95J;\\xa8\\xb7\\x1b\\xfd\\xa0\\xfd +c`\\xe5)}d\\xbe\\x00\\xf7j\\xbb\\xb6\\xff\\x01\\x00\\x00\\xff\\xff\\x03\\x00PK\\x03\\x04\\x14\\x00\\x06\\x00\\x08\\x00\\x00\\x00!\\x00YB\\x98\\xec:\\x03\\x00\\x00\\xb5\\x08\\x00\\x00\\r\\x00\\x00\\x00xl/styles.xml\\xacV[o\\xda0\\x14~\\x9f\\xb4\\xff`\\xf9=\\xcd\\x05\\xc2\\x00%\\xa9Ji\\xa4J]5\\xadL\\xda\\xabI\\x1c\\xb0\\xeaK\\xe4\\x18\\x1a6\\xed\\xbf\\xef8\\x17H\\xd7nk\\xbb\\xbd\\x10\\xfb\\xf8\\xf8;\\xdf\\xb9\\x9a\\xe8\\xbc\\x16\\x1c\\xed\\xa9\\xae\\x98\\x921\\xf6\\xcf<\\x8c\\xa8\\xccT\\xce\\xe4&\\xc6_V\\xa93\\xc5\\xa82D\\xe6\\x84+Ic|\\xa0\\x15>O\\xde\\xbf\\x8b*s\\xe0\\xf4nK\\xa9A\\x00!\\xab\\x18o\\x8d)\\xe7\\xae[e[*Hu\\xa6J*\\xe1\\xa4PZ\\x10\\x03[\\xbdq\\xabRS\\x92W\\xf6\\x92\\xe0n\\xe0y\\x13W\\x10&q\\x8b0\\x17\\xd9K@\\x04\\xd1\\xf7\\xbb\\xd2\\xc9\\x94(\\x89ak\\xc6\\x9994X\\x18\\x89l~\\xbd\\x91J\\x935\\x07\\xaa\\xb5?&\\x19\\xaa\\xfd\\x89\\x0eP\\xad{#\\x8d\\xf4\\x89\\x1d\\xc12\\xad*U\\x983\\xc0uUQ\\xb0\\x8c>\\xa5;sg.\\xc9NH\\x80\\xfc6$?t\\xbd\\xe0\\x91\\xef\\xb5~#\\xd2\\xd8\\xd5t\\xcfl\\xfap\\x12\\x15J\\x9a\\nej\\'M\\x8c\\x03 jC0\\xbf\\x97\\xeaA\\xa6\\xf6\\x082\\xdci%Q\\xf5\\r\\xed\\t\\x07\\x89\\x8f\\xdd$\\xca\\x14W\\x1a\\x19H\\x1dD\\xae\\x91H\"h\\xabqI8[kf\\xd5\\n\"\\x18?\\xb4\\xe2\\xc0\\n\\x9alwz\\x82A\\xec\\xad\\xd0\\xb5<Z6\\xaf\\xb1\\xb3b\\x82V\\xe8\\x96>\\xa0\\xcfJ\\x10\\xf9\\xab\\xbd\\x86U\\x07\\xdd|*0\\xc18\\x1f8\\xdc\\n\\x92\\x08*\\xc3P-S8E\\xddzu(\\xc13\\tE\\xdc2\\x84\\xa3\\xbfjo49\\xf8A8\\xb8\\xe06\\x06\\x93h\\xadt\\x0eMs\\nu/J\"N\\x0b\\x031\\xd0l\\xb3\\xb5_\\xa3J\\xf8]+c\\xa0\\xb0\\x92(gd\\xa3$\\xe16J-\\xc8\\xe3\\x9b\\xd0l\\xd0W16[\\xe8\\x8b>-L\\xe6\\xb4\\xa6y\\x8c\\'\\xe3\\x86\\x8b5\\xd1Yx\\x91~\\xc3\\xa5\\xa1\\xf2\"u\\xa0\\xdc3~\\x91~\\xeb\\xdc\\xf3\\xbeuNB\\xaa2\\xca\\xf9\\x9du\\xeekq\\x8c\\x9b\\xad\\xc6\\xba@r\\'Ra\\xae\\xc1A\\x18?\\xb6v\\xfa%$\\xa9[\\xb6\\xb1j76vC\\xb4\\x16{\\x00;z\\x13,\\xaa\\x8b#\\xfe\\xebI\\x1do#R\\x96\\xfcp\\xc1\\xd9F\\nj\\xfb\\xd0:\\t\\x1d\\xd4n\\xd1Vi\\xf6\\r\\\\\\xb4\\xad\\x97\\xc19\\x85\\xc9\\x04\\xf3\\xd7\\xb0l \\xb1\\x1e\\xd6\\xc5\\xefc\\xe3C\\x98\\x9e\\x8b\\r\\xc8{\\'Z\\x1a\\xb6\\xeb-\\x83v\\xb7h\\xaa\\xf6\\xb4\\xff?$\\x9b\\\\@\\xf4\\x07)~\\x94\\xe0c\\xaa\\x90\\x1d)1\\xbe\\xb5/\\x02\\x1f0]\\xef\\x187L>\\x93\\\\\\xc0\\xcc\\xebS\\xb9x\\xb6\\xfa\\x8d\\x9d\\xeeM!\\x1d\\xad@\\xd5\\xe4\\xb4 ;nV\\xc7\\xc3\\x18\\x9f\\xd6\\x1fi\\xcev\\x02\\xe6a\\xa7\\xf5\\x89\\xed\\x95i b|Z\\xdf\\xd8\\x8e\\xf5\\'\\xd6\\x06\\xad\\xcdM\\x05-\\x06_\\xb4\\xd3,\\xc6\\xdf\\xaf\\x16\\x1ff\\xcb\\xab4p\\xa6\\xdeb\\xea\\x8cG4tf\\xe1b\\xe9\\x84\\xe3\\xcb\\xc5r\\x99\\xce\\xbc\\xc0\\xbb\\xfc1xc\\xfe\\xe1\\x85i\\x9eD\\xc8\\xbd?\\x9eW\\x1c\\xde!\\xdd9\\xdb\\x91\\xbf;\\xc9b<\\xd8\\xb4\\xf4\\x9b\\xf9\\x00\\xb4\\x87\\xdcg\\xc1\\xc4\\xbb\\x08}\\xcfIG\\x9e\\xef\\x8c\\'d\\xeaL\\'\\xa3\\xd0IC?XN\\xc6\\x8b\\xab0\\r\\x07\\xdc\\xc37\\xbeD\\x9e\\xeb\\xfb\\xed\\x9bf\\xc9\\x87s\\x03\\xe3\\x9c3\\xd9\\xe7\\xaa\\xcf\\xd0P\\nI\\x82\\xed\\x1f\\x9cp\\xfbL\\xb8\\xa7\\xff\\x1b\\xc9O\\x00\\x00\\x00\\xff\\xff\\x03\\x00PK\\x03\\x04\\x14\\x00\\x06\\x00\\x08\\x00\\x00\\x00!\\x00a\\xf1w\\xfe\\x7f\\x01\\x00\\x00-\\x04\\x00\\x00\\x14\\x00\\x00\\x00xl/sharedStrings.xml|\\x93QO\\xc20\\x10\\xc7\\xdfM\\xfc\\x0eM\\x9f4\\xc1nc\\x0c\\x86\\xd9F\\x08H\\xe2\\x83$\\n>\\xf8X\\xc79\\x9a\\xac\\xedl;\\xa2\\xdf\\xde\\x12\\x0c&m\\xf1\\xa9\\xe9\\xef\\xfew\\xf7\\xdf\\xeeZ\\xcc\\xbex\\x8b\\x0e\\xa04\\x93\\xa2\\xc4\\t\\x891\\x02Q\\xcb\\x1d\\x13M\\x89_\\xb7\\xab\\xbb\\x1c#m\\xa8\\xd8\\xd1V\\n(\\xf17h<\\xab\\xae\\xaf\\n\\xad\\r\\xb2\\xb9B\\x97xoLw\\x1fE\\xba\\xde\\x03\\xa7\\x9a\\xc8\\x0e\\x84\\x8d|H\\xc5\\xa9\\xb1W\\xd5D\\xbaS@wz\\x0f`x\\x1b\\r\\xe3x\\x1cq\\xca\\x04F\\xb5\\xec\\x85)\\xf1h\\x82Q/\\xd8g\\x0f\\x8b\\x13Hs\\\\\\x15\\x9aU\\x85\\xa9\\xd6\\xb2\\x88LUD\\xc7\\xdb\\x89<.]\\xb2e\\x1c\\\\\\xb6\\xa0\\x06\\x1a\\xa9\\xbe]\\xfe\\xdcSa\\x98\\xf1\\xf8\\x12\\xde\\x99q\\xc5s~\\xf4\\x83n\\x96\\xb2m\\xa9\\xbau\\xc3\\xf1\\x94\\xc4q\\x08\\xa6\\x01\\x98d\\x018\\x0c\\xb1\\x900\\r\\x95LC\\xcaQ\\xc8Q\\x16j\\x94M\\xdc\\xee\\x9b\\x9a\\xd9\\xf1\\xc3\\x00\\xad\\xe5\\x01Z\\xef\\x97J\\xde\\xf5\\x06\\xd4\\x00m:\\xa9\\x8c=NrW\\xb7\\x92r7@O\\xbdf\\xb5\\x1bz\\x81\\x965v\\xd7.\\x97\\xfe\\'\\xf9\\xec\\xee\\xa1\\x96Bro\\x84\\xf3F\\xb1\\xbaoM\\xaf\\xec\\x17,~\\xcd^\\xeat\\xc9\\xd9\\x00\\x9d\\x1c\\\\\\xca?\\x9b8\\xca\\xdc\"o\\xa0]4!\\xb97\\xa5$!\\xe9\\xd8\\x15\\xe6d8rYF\\xfc\\xadI\\x86d\\x9c\\xfb\\xc9\\x99\\xb7 c\\x92z\\xba\\x11\\x99x\\x9b`\\x0bN=\\x8b9\\x99N\\xff\\x9aD\\xf6\\xb9W?\\x00\\x00\\x00\\xff\\xff\\x03\\x00PK\\x03\\x04\\x14\\x00\\x06\\x00\\x08\\x00\\x00\\x00!\\x00\\xcc3]`?\\x01\\x00\\x00a\\x02\\x00\\x00\\x11\\x00\\x08\\x01docProps/core.xml \\xa2\\x04\\x01(\\xa0\\x00\\x01\\x00\\x00\\x00\\x00\\x00\\x00\\x00\\x00\\x00\\x00\\x00\\x00\\x00\\x00\\x00\\x00\\x00\\x00\\x00\\x00\\x00\\x00\\x00\\x00\\x00\\x00\\x00\\x00\\x00\\x00\\x00\\x00\\x00\\x00\\x00\\x00\\x00\\x00\\x00\\x00\\x00\\x00\\x00\\x00\\x00\\x00\\x00\\x00\\x00\\x00\\x00\\x00\\x00\\x00\\x00\\x00\\x00\\x00\\x00\\x00\\x00\\x00\\x00\\x00\\x00\\x00\\x00\\x00\\x00\\x00\\x00\\x00\\x00\\x00\\x00\\x00\\x00\\x00\\x00\\x00\\x00\\x00\\x00\\x00\\x00\\x00\\x00\\x00\\x00\\x00\\x00\\x00\\x00\\x00\\x00\\x00\\x00\\x00\\x00\\x00\\x00\\x00\\x00\\x00\\x00\\x00\\x00\\x00\\x00\\x00\\x00\\x00\\x00\\x00\\x00\\x00\\x00\\x00\\x00\\x00\\x00\\x00\\x00\\x00\\x00\\x00\\x00\\x00\\x00\\x00\\x00\\x00\\x00\\x00\\x00\\x00\\x00\\x00\\x00\\x00\\x00\\x00\\x00\\x00\\x00\\x00\\x00\\x00\\x00\\x00\\x00\\x00\\x00\\x00\\x00\\x00\\x00\\x00\\x00\\x00\\x00\\x00\\x00\\x00\\x00\\x00\\x00\\x00\\x00\\x00\\x00\\x00\\x00\\x00\\x00\\x00\\x00\\x00\\x00\\x00\\x00\\x00\\x00\\x00\\x00\\x00\\x00\\x00\\x00\\x00\\x00\\x00\\x00\\x00\\x00\\x00\\x00\\x00\\x00\\x00\\x00\\x00\\x00\\x00\\x00\\x00\\x00\\x00\\x00\\x00\\x00\\x00\\x00\\x00\\x00\\x00\\x00\\x00\\x00\\x00\\x00\\x00\\x00\\x00\\x00\\x00\\x00\\x00\\x00\\x00\\x00\\x00\\x00\\x00\\x00\\x00\\x00\\x00\\x00\\x00\\x00\\x00\\x00\\x00\\x00\\x00\\x00\\x00\\x00\\x00\\x00\\x00\\x00\\x00\\x00\\x00\\x8c\\x92_K\\xc30\\x14\\xc5\\xdf\\x05\\xbfC\\xc9{\\x9b\\xb4s\\xa2\\xa1\\xed@eO\\x0e\\x06N\\x14\\xdfBr\\xb7\\x05\\x9b?$\\xd1n\\xdf\\xde\\xb4\\x9d\\xb52\\x1f|\\xcc=\\'\\xbf\\x9c{H\\xb98\\xa8&\\xf9\\x04\\xe7\\xa5\\xd1\\x15\\xca3\\x82\\x12\\xd0\\xdc\\x08\\xa9w\\x15z\\xde,\\xd3\\x1b\\x94\\xf8\\xc0\\xb4`\\x8d\\xd1P\\xa1#x\\xb4\\xa8//Jn)7\\x0e\\xd6\\xceXpA\\x82O\"I{\\xcam\\x85\\xf6!X\\x8a\\xb1\\xe7{P\\xccg\\xd1\\xa1\\xa3\\xb85N\\xb1\\x10\\x8fn\\x87-\\xe3\\xefl\\x07\\xb8 \\xe4\\x1a+\\x08L\\xb0\\xc0p\\x07L\\xedHD\\'\\xa4\\xe0#\\xd2~\\xb8\\xa6\\x07\\x08\\x8e\\xa1\\x01\\x05:x\\x9cg9\\xfe\\xf1\\x06p\\xca\\xffy\\xa1W&N%\\xc3\\xd1\\xc6\\x9dNq\\xa7l\\xc1\\x07qt\\x1f\\xbc\\x1c\\x8dm\\xdbf\\xed\\xac\\x8f\\x11\\xf3\\xe7\\xf8u\\xf5\\xf8\\xd4\\xaf\\x9aJ\\xddu\\xc5\\x01\\xd5\\xa5\\xe0\\x94;`\\xc1\\xb8z\\x1d\\xeb5\\x9a5%\\x9e\\x0c\\xbb\\x02\\x1b\\xe6\\xc3*v\\xbd\\x95 \\xee\\x8e\\x13\\xdf\\xb9\\x16y}\\xfc\\x01\\n\"\\x89\\x81\\xe8\\x10\\xff[y\\x99\\xdd?l\\x96\\xa8.H\\x91\\xa79I\\xc9|S\\xcch>\\xa7d\\xfe\\xd6=\\xfd\\xeb~\\x17p\\x18\\xa8S\\x80\\xff\\x13o\\xe9U1!~\\x03\\xea\\x12\\x9f}\\x8a\\xfa\\x0b\\x00\\x00\\xff\\xff\\x03\\x00PK\\x03\\x04\\x14\\x00\\x06\\x00\\x08\\x00\\x00\\x00!\\x00aI\\t\\x10\\x89\\x01\\x00\\x00\\x11\\x03\\x00\\x00\\x10\\x00\\x08\\x01docProps/app.xml \\xa2\\x04\\x01(\\xa0\\x00\\x01\\x00\\x00\\x00\\x00\\x00\\x00\\x00\\x00\\x00\\x00\\x00\\x00\\x00\\x00\\x00\\x00\\x00\\x00\\x00\\x00\\x00\\x00\\x00\\x00\\x00\\x00\\x00\\x00\\x00\\x00\\x00\\x00\\x00\\x00\\x00\\x00\\x00\\x00\\x00\\x00\\x00\\x00\\x00\\x00\\x00\\x00\\x00\\x00\\x00\\x00\\x00\\x00\\x00\\x00\\x00\\x00\\x00\\x00\\x00\\x00\\x00\\x00\\x00\\x00\\x00\\x00\\x00\\x00\\x00\\x00\\x00\\x00\\x00\\x00\\x00\\x00\\x00\\x00\\x00\\x00\\x00\\x00\\x00\\x00\\x00\\x00\\x00\\x00\\x00\\x00\\x00\\x00\\x00\\x00\\x00\\x00\\x00\\x00\\x00\\x00\\x00\\x00\\x00\\x00\\x00\\x00\\x00\\x00\\x00\\x00\\x00\\x00\\x00\\x00\\x00\\x00\\x00\\x00\\x00\\x00\\x00\\x00\\x00\\x00\\x00\\x00\\x00\\x00\\x00\\x00\\x00\\x00\\x00\\x00\\x00\\x00\\x00\\x00\\x00\\x00\\x00\\x00\\x00\\x00\\x00\\x00\\x00\\x00\\x00\\x00\\x00\\x00\\x00\\x00\\x00\\x00\\x00\\x00\\x00\\x00\\x00\\x00\\x00\\x00\\x00\\x00\\x00\\x00\\x00\\x00\\x00\\x00\\x00\\x00\\x00\\x00\\x00\\x00\\x00\\x00\\x00\\x00\\x00\\x00\\x00\\x00\\x00\\x00\\x00\\x00\\x00\\x00\\x00\\x00\\x00\\x00\\x00\\x00\\x00\\x00\\x00\\x00\\x00\\x00\\x00\\x00\\x00\\x00\\x00\\x00\\x00\\x00\\x00\\x00\\x00\\x00\\x00\\x00\\x00\\x00\\x00\\x00\\x00\\x00\\x00\\x00\\x00\\x00\\x00\\x00\\x00\\x00\\x00\\x00\\x00\\x00\\x00\\x00\\x00\\x00\\x00\\x00\\x00\\x00\\x00\\x00\\x00\\x00\\x00\\x00\\x00\\x00\\x00\\x00\\x00\\x00\\x9c\\x92Ao\\xdb0\\x0c\\x85\\xef\\x03\\xfa\\x1f\\x0c\\xdd\\x1b9\\xddP\\x0c\\x81\\xacbHW\\xf4\\xb0a\\x01\\x92\\xb6gM\\xa6c\\xa1\\xb2$\\x88\\xac\\x91\\xec\\xd7\\x8f\\xb6\\xd1\\xd4\\xd9z\\xea\\x8d\\xe4{x\\xfaDI\\xdd\\x1c:_\\xf4\\x90\\xd1\\xc5P\\x89\\xe5\\xa2\\x14\\x05\\x04\\x1bk\\x17\\xf6\\x95x\\xd8\\xdd]~\\x15\\x05\\x92\\t\\xb5\\xf11@%\\x8e\\x80\\xe2F_|R\\x9b\\x1c\\x13dr\\x80\\x05G\\x04\\xacDK\\x94VR\\xa2m\\xa13\\xb8`9\\xb0\\xd2\\xc4\\xdc\\x19\\xe26\\xefel\\x1ag\\xe16\\xda\\x97\\x0e\\x02\\xc9\\xab\\xb2\\xbc\\x96p \\x085\\xd4\\x97\\xe9\\x14(\\xa6\\xc4UO\\x1f\\r\\xad\\xa3\\x1d\\xf8\\xf0qwL\\x0c\\xac\\xd5\\xb7\\x94\\xbc\\xb3\\x86\\xf8\\x96\\xfa\\xa7\\xb39bl\\xa8\\xf8~\\xb0\\xe0\\x95\\x9c\\x8b\\x8a\\xe9\\xb6`_\\xb2\\xa3\\xa3.\\x95\\x9c\\xb7jk\\x8d\\x875\\x07\\xeb\\xc6x\\x04%\\xdf\\x06\\xea\\x1e\\xcc\\xb0\\xb4\\x8dq\\x19\\xb5\\xeai\\xd5\\x83\\xa5\\x98\\x0bt\\x7fxmW\\xa2\\xf8m\\x10\\x06\\x9cJ\\xf4&;\\x13\\x88\\xb1\\x06\\xdb\\xd4\\x8c\\xb5OHY?\\xc5\\xfc\\x8c-\\x00\\xa1\\x92l\\x98\\x86c9\\xf7\\xcek\\xf7E/G\\x03\\x17\\xe7\\xc6!`\\x02a\\xe1\\x1cq\\xe7\\xc8\\x03\\xfej6&\\xd3;\\xc4\\xcb9\\xf1\\xc80\\xf1N8\\xdb\\x81o:s\\xce7^\\x99O\\xfa\\'{\\x1d\\xbbd\\xc2\\x91\\x85S\\xf5\\xc3\\x85g|H\\xbbxk\\x08^\\xd7y>T\\xdb\\xd6d\\xa8\\xf9\\x05N\\xeb>\\r\\xd4=o2\\xfb!d\\xdd\\x9a\\xb0\\x87\\xfa\\xd5\\xf3\\xbf0<\\xfe\\xe3\\xf4\\xc3\\xf5\\xf2zQ~.\\xf9]g3%\\xdf\\xfe\\xb2\\xfe\\x0b\\x00\\x00\\xff\\xff\\x03\\x00PK\\x01\\x02-\\x00\\x14\\x00\\x06\\x00\\x08\\x00\\x00\\x00!\\x00b\\xee\\x9dh^\\x01\\x00\\x00\\x90\\x04\\x00\\x00\\x13\\x00\\x00\\x00\\x00\\x00\\x00\\x00\\x00\\x00\\x00\\x00\\x00\\x00\\x00\\x00\\x00\\x00[Content_Types].xmlPK\\x01\\x02-\\x00\\x14\\x00\\x06\\x00\\x08\\x00\\x00\\x00!\\x00\\xb5U0#\\xf4\\x00\\x00\\x00L\\x02\\x00\\x00\\x0b\\x00\\x00\\x00\\x00\\x00\\x00\\x00\\x00\\x00\\x00\\x00\\x00\\x00\\x97\\x03\\x00\\x00_rels/.relsPK\\x01\\x02-\\x00\\x14\\x00\\x06\\x00\\x08\\x00\\x00\\x00!\\x005\\x08\\xb4[U\\x03\\x00\\x00\\xdf\\x07\\x00\\x00\\x0f\\x00\\x00\\x00\\x00\\x00\\x00\\x00\\x00\\x00\\x00\\x00\\x00\\x00\\xbc\\x06\\x00\\x00xl/workbook.xmlPK\\x01\\x02-\\x00\\x14\\x00\\x06\\x00\\x08\\x00\\x00\\x00!\\x00\\x81>\\x94\\x97\\xf3\\x00\\x00\\x00\\xba\\x02\\x00\\x00\\x1a\\x00\\x00\\x00\\x00\\x00\\x00\\x00\\x00\\x00\\x00\\x00\\x00\\x00>\\n\\x00\\x00xl/_rels/workbook.xml.relsPK\\x01\\x02-\\x00\\x14\\x00\\x06\\x00\\x08\\x00\\x00\\x00!\\x00?\\xb4\\xbc\\x88k\\x04\\x00\\x00\\x0f\\x11\\x00\\x00\\x18\\x00\\x00\\x00\\x00\\x00\\x00\\x00\\x00\\x00\\x00\\x00\\x00\\x00q\\x0c\\x00\\x00xl/worksheets/sheet1.xmlPK\\x01\\x02-\\x00\\x14\\x00\\x06\\x00\\x08\\x00\\x00\\x00!\\x00\\xc1\\x17\\x10\\xbeN\\x07\\x00\\x00\\xc6 \\x00\\x00\\x13\\x00\\x00\\x00\\x00\\x00\\x00\\x00\\x00\\x00\\x00\\x00\\x00\\x00\\x12\\x11\\x00\\x00xl/theme/theme1.xmlPK\\x01\\x02-\\x00\\x14\\x00\\x06\\x00\\x08\\x00\\x00\\x00!\\x00YB\\x98\\xec:\\x03\\x00\\x00\\xb5\\x08\\x00\\x00\\r\\x00\\x00\\x00\\x00\\x00\\x00\\x00\\x00\\x00\\x00\\x00\\x00\\x00\\x91\\x18\\x00\\x00xl/styles.xmlPK\\x01\\x02-\\x00\\x14\\x00\\x06\\x00\\x08\\x00\\x00\\x00!\\x00a\\xf1w\\xfe\\x7f\\x01\\x00\\x00-\\x04\\x00\\x00\\x14\\x00\\x00\\x00\\x00\\x00\\x00\\x00\\x00\\x00\\x00\\x00\\x00\\x00\\xf6\\x1b\\x00\\x00xl/sharedStrings.xmlPK\\x01\\x02-\\x00\\x14\\x00\\x06\\x00\\x08\\x00\\x00\\x00!\\x00\\xcc3]`?\\x01\\x00\\x00a\\x02\\x00\\x00\\x11\\x00\\x00\\x00\\x00\\x00\\x00\\x00\\x00\\x00\\x00\\x00\\x00\\x00\\xa7\\x1d\\x00\\x00docProps/core.xmlPK\\x01\\x02-\\x00\\x14\\x00\\x06\\x00\\x08\\x00\\x00\\x00!\\x00aI\\t\\x10\\x89\\x01\\x00\\x00\\x11\\x03\\x00\\x00\\x10\\x00\\x00\\x00\\x00\\x00\\x00\\x00\\x00\\x00\\x00\\x00\\x00\\x00\\x1d \\x00\\x00docProps/app.xmlPK\\x05\\x06\\x00\\x00\\x00\\x00\\n\\x00\\n\\x00\\x80\\x02\\x00\\x00\\xdc\"\\x00\\x00\\x00\\x00'}"
            ]
          },
          "metadata": {},
          "execution_count": 12
        }
      ]
    },
    {
      "cell_type": "code",
      "metadata": {
        "id": "uezFJZPrx_DO"
      },
      "source": [
        "df=pd.read_excel('Data Tugas.xlsx')"
      ],
      "execution_count": null,
      "outputs": []
    },
    {
      "cell_type": "markdown",
      "metadata": {
        "id": "HAMJMmi5zjtp"
      },
      "source": [
        "Menampilkan 5 Sampel Data"
      ]
    },
    {
      "cell_type": "code",
      "metadata": {
        "colab": {
          "base_uri": "https://localhost:8080/",
          "height": 206
        },
        "id": "rfkxg2htybqp",
        "outputId": "04d9883c-959d-4617-c282-9fbd992e051f"
      },
      "source": [
        "df.head()"
      ],
      "execution_count": null,
      "outputs": [
        {
          "output_type": "execute_result",
          "data": {
            "text/html": [
              "<div>\n",
              "<style scoped>\n",
              "    .dataframe tbody tr th:only-of-type {\n",
              "        vertical-align: middle;\n",
              "    }\n",
              "\n",
              "    .dataframe tbody tr th {\n",
              "        vertical-align: top;\n",
              "    }\n",
              "\n",
              "    .dataframe thead th {\n",
              "        text-align: right;\n",
              "    }\n",
              "</style>\n",
              "<table border=\"1\" class=\"dataframe\">\n",
              "  <thead>\n",
              "    <tr style=\"text-align: right;\">\n",
              "      <th></th>\n",
              "      <th>No</th>\n",
              "      <th>ID</th>\n",
              "      <th>Time</th>\n",
              "      <th>Category</th>\n",
              "      <th>Quantity</th>\n",
              "      <th>Debit</th>\n",
              "      <th>Amount (Dollar)</th>\n",
              "    </tr>\n",
              "  </thead>\n",
              "  <tbody>\n",
              "    <tr>\n",
              "      <th>0</th>\n",
              "      <td>1</td>\n",
              "      <td>1072</td>\n",
              "      <td>9.00</td>\n",
              "      <td>Science, Novel</td>\n",
              "      <td>2</td>\n",
              "      <td>No</td>\n",
              "      <td>7.85</td>\n",
              "    </tr>\n",
              "    <tr>\n",
              "      <th>1</th>\n",
              "      <td>2</td>\n",
              "      <td>1145</td>\n",
              "      <td>9.03</td>\n",
              "      <td>Computer, Sport, Science</td>\n",
              "      <td>3</td>\n",
              "      <td>Yes</td>\n",
              "      <td>11.36</td>\n",
              "    </tr>\n",
              "    <tr>\n",
              "      <th>2</th>\n",
              "      <td>3</td>\n",
              "      <td>1281</td>\n",
              "      <td>9.15</td>\n",
              "      <td>Food, Music</td>\n",
              "      <td>2</td>\n",
              "      <td>Yes</td>\n",
              "      <td>8.24</td>\n",
              "    </tr>\n",
              "    <tr>\n",
              "      <th>3</th>\n",
              "      <td>4</td>\n",
              "      <td>1430</td>\n",
              "      <td>9.20</td>\n",
              "      <td>Religion</td>\n",
              "      <td>1</td>\n",
              "      <td>No</td>\n",
              "      <td>5.15</td>\n",
              "    </tr>\n",
              "    <tr>\n",
              "      <th>4</th>\n",
              "      <td>5</td>\n",
              "      <td>1599</td>\n",
              "      <td>9.25</td>\n",
              "      <td>Computer, Food, Music</td>\n",
              "      <td>3</td>\n",
              "      <td>No</td>\n",
              "      <td>12.68</td>\n",
              "    </tr>\n",
              "  </tbody>\n",
              "</table>\n",
              "</div>"
            ],
            "text/plain": [
              "   No    ID  Time                  Category  Quantity Debit  Amount (Dollar)\n",
              "0   1  1072  9.00            Science, Novel         2    No             7.85\n",
              "1   2  1145  9.03  Computer, Sport, Science         3   Yes            11.36\n",
              "2   3  1281  9.15               Food, Music         2   Yes             8.24\n",
              "3   4  1430  9.20                  Religion         1    No             5.15\n",
              "4   5  1599  9.25     Computer, Food, Music         3    No            12.68"
            ]
          },
          "metadata": {},
          "execution_count": 15
        }
      ]
    },
    {
      "cell_type": "markdown",
      "metadata": {
        "id": "CQXEpK4rzmtI"
      },
      "source": [
        "Tipe Data Pada Semua Kolom 1"
      ]
    },
    {
      "cell_type": "code",
      "metadata": {
        "colab": {
          "base_uri": "https://localhost:8080/"
        },
        "id": "d_56jxiYyeo6",
        "outputId": "b45e1fd3-282b-4cd9-ff3d-a8cc2c3a969a"
      },
      "source": [
        "df['No'].dtype"
      ],
      "execution_count": null,
      "outputs": [
        {
          "output_type": "execute_result",
          "data": {
            "text/plain": [
              "dtype('int64')"
            ]
          },
          "metadata": {},
          "execution_count": 16
        }
      ]
    },
    {
      "cell_type": "code",
      "metadata": {
        "colab": {
          "base_uri": "https://localhost:8080/"
        },
        "id": "1wTb43sFyn4s",
        "outputId": "0aa3ed1c-c6c3-4d59-81a0-62fbdb5b2939"
      },
      "source": [
        "df.dtypes"
      ],
      "execution_count": null,
      "outputs": [
        {
          "output_type": "execute_result",
          "data": {
            "text/plain": [
              "No                   int64\n",
              "ID                   int64\n",
              "Time               float64\n",
              "Category            object\n",
              "Quantity             int64\n",
              "Debit               object\n",
              "Amount (Dollar)    float64\n",
              "dtype: object"
            ]
          },
          "metadata": {},
          "execution_count": 17
        }
      ]
    },
    {
      "cell_type": "markdown",
      "metadata": {
        "id": "DnaZxgrn03Bo"
      },
      "source": [
        "Ringkasan Numerik Pada Kolom Numerik Data"
      ]
    },
    {
      "cell_type": "code",
      "metadata": {
        "id": "mrWOeSOizuGg"
      },
      "source": [
        "df_rank=df.groupby(['Quantity'])"
      ],
      "execution_count": null,
      "outputs": []
    },
    {
      "cell_type": "code",
      "metadata": {
        "colab": {
          "base_uri": "https://localhost:8080/",
          "height": 174
        },
        "id": "tQVu-dTu0sU5",
        "outputId": "2026a703-8d6b-426e-d982-2954cf81a258"
      },
      "source": [
        "df_rank.mean()"
      ],
      "execution_count": null,
      "outputs": [
        {
          "output_type": "execute_result",
          "data": {
            "text/html": [
              "<div>\n",
              "<style scoped>\n",
              "    .dataframe tbody tr th:only-of-type {\n",
              "        vertical-align: middle;\n",
              "    }\n",
              "\n",
              "    .dataframe tbody tr th {\n",
              "        vertical-align: top;\n",
              "    }\n",
              "\n",
              "    .dataframe thead th {\n",
              "        text-align: right;\n",
              "    }\n",
              "</style>\n",
              "<table border=\"1\" class=\"dataframe\">\n",
              "  <thead>\n",
              "    <tr style=\"text-align: right;\">\n",
              "      <th></th>\n",
              "      <th>No</th>\n",
              "      <th>ID</th>\n",
              "      <th>Time</th>\n",
              "      <th>Amount (Dollar)</th>\n",
              "    </tr>\n",
              "    <tr>\n",
              "      <th>Quantity</th>\n",
              "      <th></th>\n",
              "      <th></th>\n",
              "      <th></th>\n",
              "      <th></th>\n",
              "    </tr>\n",
              "  </thead>\n",
              "  <tbody>\n",
              "    <tr>\n",
              "      <th>1</th>\n",
              "      <td>6.000000</td>\n",
              "      <td>1612.5</td>\n",
              "      <td>9.300000</td>\n",
              "      <td>4.935</td>\n",
              "    </tr>\n",
              "    <tr>\n",
              "      <th>2</th>\n",
              "      <td>5.400000</td>\n",
              "      <td>1517.2</td>\n",
              "      <td>9.280000</td>\n",
              "      <td>7.998</td>\n",
              "    </tr>\n",
              "    <tr>\n",
              "      <th>3</th>\n",
              "      <td>5.333333</td>\n",
              "      <td>1544.0</td>\n",
              "      <td>9.266667</td>\n",
              "      <td>12.330</td>\n",
              "    </tr>\n",
              "  </tbody>\n",
              "</table>\n",
              "</div>"
            ],
            "text/plain": [
              "                No      ID      Time  Amount (Dollar)\n",
              "Quantity                                             \n",
              "1         6.000000  1612.5  9.300000            4.935\n",
              "2         5.400000  1517.2  9.280000            7.998\n",
              "3         5.333333  1544.0  9.266667           12.330"
            ]
          },
          "metadata": {},
          "execution_count": 23
        }
      ]
    },
    {
      "cell_type": "markdown",
      "metadata": {
        "id": "s9sNEKPm1Gex"
      },
      "source": [
        "Transaksi Dengan Total ***Amount*** Lebih Dari 6 Dollar"
      ]
    },
    {
      "cell_type": "code",
      "metadata": {
        "colab": {
          "base_uri": "https://localhost:8080/"
        },
        "id": "DejRY2Xa0-Zs",
        "outputId": "a389edcc-1fc9-4c57-b0b0-9bde8182f3b3"
      },
      "source": [
        "df_sub=df[df['Amount (Dollar)']>6.000]\n",
        "print(df_sub)"
      ],
      "execution_count": null,
      "outputs": [
        {
          "output_type": "stream",
          "name": "stdout",
          "text": [
            "   No    ID  Time                  Category  Quantity Debit  Amount (Dollar)\n",
            "0   1  1072  9.00            Science, Novel         2    No             7.85\n",
            "1   2  1145  9.03  Computer, Sport, Science         3   Yes            11.36\n",
            "2   3  1281  9.15               Food, Music         2   Yes             8.24\n",
            "4   5  1599  9.25     Computer, Food, Music         3    No            12.68\n",
            "5   6  1621  9.33          Science, Economy         2   Yes             8.53\n",
            "6   7  1688  9.35     Agriculture, Computer         2    No             6.38\n",
            "8   9  1888  9.52  Religion, Food, Computer         3    No            12.95\n",
            "9  10  1924  9.57             Science, Food         2    No             8.99\n"
          ]
        }
      ]
    },
    {
      "cell_type": "markdown",
      "metadata": {
        "id": "24-d9bhp1dxG"
      },
      "source": [
        "Transaksi Dengan ***Quantity*** Maksimal 2"
      ]
    },
    {
      "cell_type": "code",
      "metadata": {
        "colab": {
          "base_uri": "https://localhost:8080/"
        },
        "id": "iBcPeMxY1ckU",
        "outputId": "ac7617f1-0895-4f85-acf5-b1d91dd9e291"
      },
      "source": [
        "df_sub=df[df['Quantity']<=2]\n",
        "print(df_sub)"
      ],
      "execution_count": null,
      "outputs": [
        {
          "output_type": "stream",
          "name": "stdout",
          "text": [
            "   No    ID  Time               Category  Quantity Debit  Amount (Dollar)\n",
            "0   1  1072  9.00         Science, Novel         2    No             7.85\n",
            "2   3  1281  9.15            Food, Music         2   Yes             8.24\n",
            "3   4  1430  9.20               Religion         1    No             5.15\n",
            "5   6  1621  9.33       Science, Economy         2   Yes             8.53\n",
            "6   7  1688  9.35  Agriculture, Computer         2    No             6.38\n",
            "7   8  1795  9.40               Computer         1   Yes             4.72\n",
            "9  10  1924  9.57          Science, Food         2    No             8.99\n"
          ]
        }
      ]
    },
    {
      "cell_type": "markdown",
      "metadata": {
        "id": "xAbjs25C1p15"
      },
      "source": [
        "Subset Data Yang Hanya Memuat Kolom ***Category*** dan ***Amount***"
      ]
    },
    {
      "cell_type": "code",
      "metadata": {
        "colab": {
          "base_uri": "https://localhost:8080/"
        },
        "id": "8QDmo5G_1ol7",
        "outputId": "c2912445-7caf-4514-ecdd-c849e8a43ba7"
      },
      "source": [
        "df_sub=df[['Category','Amount (Dollar)']]\n",
        "print(df_sub)"
      ],
      "execution_count": null,
      "outputs": [
        {
          "output_type": "stream",
          "name": "stdout",
          "text": [
            "                   Category  Amount (Dollar)\n",
            "0            Science, Novel             7.85\n",
            "1  Computer, Sport, Science            11.36\n",
            "2               Food, Music             8.24\n",
            "3                  Religion             5.15\n",
            "4     Computer, Food, Music            12.68\n",
            "5          Science, Economy             8.53\n",
            "6     Agriculture, Computer             6.38\n",
            "7                  Computer             4.72\n",
            "8  Religion, Food, Computer            12.95\n",
            "9             Science, Food             8.99\n"
          ]
        }
      ]
    },
    {
      "cell_type": "markdown",
      "metadata": {
        "id": "muLh786L2DaV"
      },
      "source": [
        "Subset Data Yang Memuat Baris Nomor 0 sampai 5 dan Kolom Nomor 3 sampai 4"
      ]
    },
    {
      "cell_type": "code",
      "metadata": {
        "colab": {
          "base_uri": "https://localhost:8080/"
        },
        "id": "ME1eFUmM1-KJ",
        "outputId": "a4511e81-6221-452f-a6ad-05c8c7d7e318"
      },
      "source": [
        "df_sub=df.iloc[0:5,[3,4]]\n",
        "print(df_sub)"
      ],
      "execution_count": null,
      "outputs": [
        {
          "output_type": "stream",
          "name": "stdout",
          "text": [
            "                   Category  Quantity\n",
            "0            Science, Novel         2\n",
            "1  Computer, Sport, Science         3\n",
            "2               Food, Music         2\n",
            "3                  Religion         1\n",
            "4     Computer, Food, Music         3\n"
          ]
        }
      ]
    },
    {
      "cell_type": "markdown",
      "metadata": {
        "id": "yLt7m-PW2zh5"
      },
      "source": [
        "Pengurutan Data Berdasarkan Kolom ***Amount***"
      ]
    },
    {
      "cell_type": "code",
      "metadata": {
        "colab": {
          "base_uri": "https://localhost:8080/"
        },
        "id": "wpfh6ut22qLf",
        "outputId": "7da065f8-50ae-40ed-cc36-e533c5fd4a7e"
      },
      "source": [
        "df_sorted=df.sort_values(by='Amount (Dollar)')\n",
        "print(df_sorted)"
      ],
      "execution_count": null,
      "outputs": [
        {
          "output_type": "stream",
          "name": "stdout",
          "text": [
            "   No    ID  Time                  Category  Quantity Debit  Amount (Dollar)\n",
            "7   8  1795  9.40                  Computer         1   Yes             4.72\n",
            "3   4  1430  9.20                  Religion         1    No             5.15\n",
            "6   7  1688  9.35     Agriculture, Computer         2    No             6.38\n",
            "0   1  1072  9.00            Science, Novel         2    No             7.85\n",
            "2   3  1281  9.15               Food, Music         2   Yes             8.24\n",
            "5   6  1621  9.33          Science, Economy         2   Yes             8.53\n",
            "9  10  1924  9.57             Science, Food         2    No             8.99\n",
            "1   2  1145  9.03  Computer, Sport, Science         3   Yes            11.36\n",
            "4   5  1599  9.25     Computer, Food, Music         3    No            12.68\n",
            "8   9  1888  9.52  Religion, Food, Computer         3    No            12.95\n"
          ]
        }
      ]
    },
    {
      "cell_type": "markdown",
      "metadata": {
        "id": "NLVIv59d3KlC"
      },
      "source": [
        "Pengurutan Data Berdasarkan Kolom ***Debit*** dan **Amount** Dengan Urutan ***'Ascending'***"
      ]
    },
    {
      "cell_type": "code",
      "metadata": {
        "colab": {
          "base_uri": "https://localhost:8080/"
        },
        "id": "BheGd6KJ3I-B",
        "outputId": "abf08598-2c81-4720-bcff-c23074907249"
      },
      "source": [
        "df_sorted=df.sort_values(by=['Debit','Amount (Dollar)'],ascending=[True,False])\n",
        "print(df_sorted)"
      ],
      "execution_count": null,
      "outputs": [
        {
          "output_type": "stream",
          "name": "stdout",
          "text": [
            "   No    ID  Time                  Category  Quantity Debit  Amount (Dollar)\n",
            "8   9  1888  9.52  Religion, Food, Computer         3    No            12.95\n",
            "4   5  1599  9.25     Computer, Food, Music         3    No            12.68\n",
            "9  10  1924  9.57             Science, Food         2    No             8.99\n",
            "0   1  1072  9.00            Science, Novel         2    No             7.85\n",
            "6   7  1688  9.35     Agriculture, Computer         2    No             6.38\n",
            "3   4  1430  9.20                  Religion         1    No             5.15\n",
            "1   2  1145  9.03  Computer, Sport, Science         3   Yes            11.36\n",
            "5   6  1621  9.33          Science, Economy         2   Yes             8.53\n",
            "2   3  1281  9.15               Food, Music         2   Yes             8.24\n",
            "7   8  1795  9.40                  Computer         1   Yes             4.72\n"
          ]
        }
      ]
    }
  ]
}