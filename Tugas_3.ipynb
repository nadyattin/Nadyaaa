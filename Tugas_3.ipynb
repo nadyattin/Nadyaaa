{
  "nbformat": 4,
  "nbformat_minor": 0,
  "metadata": {
    "colab": {
      "name": "Tugas 3",
      "provenance": [],
      "collapsed_sections": [],
      "authorship_tag": "ABX9TyPXWIi/DaCduAgr3XEBBvzz",
      "include_colab_link": true
    },
    "kernelspec": {
      "name": "python3",
      "display_name": "Python 3"
    },
    "language_info": {
      "name": "python"
    }
  },
  "cells": [
    {
      "cell_type": "markdown",
      "metadata": {
        "id": "view-in-github",
        "colab_type": "text"
      },
      "source": [
        "<a href=\"https://colab.research.google.com/github/nadyattin/Nadyaaa/blob/master/Tugas_3.ipynb\" target=\"_parent\"><img src=\"https://colab.research.google.com/assets/colab-badge.svg\" alt=\"Open In Colab\"/></a>"
      ]
    },
    {
      "cell_type": "code",
      "metadata": {
        "id": "ITpIlrcY3URx"
      },
      "source": [
        "# Melakukan return pada indeks n dalam data yang diberikan jika ada   \n",
        "# else returns -1   \n",
        "def binary_search(data, n):  \n",
        "    low = 0  \n",
        "    high = len(data) - 1  \n",
        "    mid = 0  \n",
        "  \n",
        "    while low <= high:  \n",
        "        # Untuk mendapatkan bahwa data berupa integer (bilangan bulat)   \n",
        "        mid = (high + low) // 2  \n",
        "  \n",
        "        # Mengecek n cocok dengan elemen tengah (mid)\n",
        "        if data[mid] < n:  \n",
        "            low = mid + 1  \n",
        "  \n",
        "        # Jika n lebih besar, bandingkan dengan elemen tengah ke kanan (right of mid)\n",
        "        elif data[mid] > n:  \n",
        "            high = mid - 1  \n",
        "  \n",
        "        # # Jika n lebih kecil, bandingkan dengan elemen tengah ke kiri (left of mid)\n",
        "        else:  \n",
        "            return mid  \n",
        "  \n",
        "            # Elemen tidak terdapat dalam daftar, return -1  \n",
        "    return -1  \n",
        "  \n",
        "  \n",
        "# Initial data  \n",
        "data = [16, 21, 34, 49, 50, 63, 72, 87, 90]  \n",
        "n = 60\n",
        "  \n",
        "# Function call   \n",
        "result = binary_search(data, n)  \n",
        "  \n",
        "if result != -1:  \n",
        "    print(\"Elemen terdapat dalam indeks ke-\", str(result))  \n",
        "else:  \n",
        "    print(\"Elemen tidak terdaftar dalam data!\")  "
      ],
      "execution_count": null,
      "outputs": []
    }
  ]
}