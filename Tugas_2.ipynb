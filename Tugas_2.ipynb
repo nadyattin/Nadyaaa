{
  "nbformat": 4,
  "nbformat_minor": 0,
  "metadata": {
    "colab": {
      "name": "Tugas 2",
      "provenance": [],
      "collapsed_sections": [],
      "include_colab_link": true
    },
    "kernelspec": {
      "name": "python3",
      "display_name": "Python 3"
    },
    "language_info": {
      "name": "python"
    }
  },
  "cells": [
    {
      "cell_type": "markdown",
      "metadata": {
        "id": "view-in-github",
        "colab_type": "text"
      },
      "source": [
        "<a href=\"https://colab.research.google.com/github/nadyattin/Nadyaaa/blob/master/Tugas_2.ipynb\" target=\"_parent\"><img src=\"https://colab.research.google.com/assets/colab-badge.svg\" alt=\"Open In Colab\"/></a>"
      ]
    },
    {
      "cell_type": "code",
      "metadata": {
        "id": "NCVnTjnQp37W"
      },
      "source": [
        "#Fungsi Operasi Penjumlahan\n",
        "def add(x, y):\n",
        "    return x + y\n",
        "#Fungsi Operasi Pengurangan\n",
        "def subtract(x, y):\n",
        "    return x - y\n",
        "#Fungsi Operasi Perkalian\n",
        "def multiply(x, y):\n",
        "    return x * y\n",
        "#Fungsi Operasi Pembagian\n",
        "def divide(x, y):\n",
        "    return x / y\n",
        "\n",
        "print(\"Kalkulator Sederhana\")\n",
        "print(\"1.Penjumlahan [Add]\")\n",
        "print(\"2.Pengurangan [Subtract]\")\n",
        "print(\"3.Perkalian [Multiplies]\")\n",
        "print(\"4.Pembagian [Divides]\")\n",
        "\n",
        "while True:\n",
        "    #Inputan Jenis Operasi Dari User\n",
        "    operasi = input(\"Masukkan Pilihan Operasi (1/2/3/4) : \")\n",
        "\n",
        "    #Pengecekan Jika Operasi Yang Dipilih Merupakan 1 Dari 4 Pilihan Operasi\n",
        "    if operasi in ('1', '2', '3', '4'):\n",
        "        x = int(input(\"Masukkan Angka Pertama: \"))\n",
        "        y = int(input(\"Masukkan Angka Kedua: \"))\n",
        "\n",
        "        if operasi == '1':\n",
        "            print(\"Hasilnya adalah \",add(x, y))\n",
        "        elif operasi == '2':\n",
        "            print(\"Hasilnya adalah \",subtract(x, y))\n",
        "        elif operasi == '3':\n",
        "            print(\"Hasilnya adalah \",multiply(x, y))\n",
        "        elif operasi == '4':\n",
        "            print(\"Hasilnya adalah \",divide(x, y))\n",
        "        \n",
        "        #Pengecekan Apabila User Ingin Melakukan Perhitungan Lain\n",
        "        next_calculation = input(\"Melakukan Perhitungan Selanjutnya? (ya/tidak): \")\n",
        "        # Looping Berhenti Jika Jawabannya \"Tidak\"\n",
        "        if next_calculation == \"tidak\":\n",
        "          break\n",
        "\n",
        "    #Jika Operasi Yang Dipilih Tidak Termasuk Dari Keempat Jenis\n",
        "    else:\n",
        "        print(\"Operasi Tidak Ditemukan.\")"
      ],
      "execution_count": null,
      "outputs": []
    },
    {
      "cell_type": "markdown",
      "metadata": {
        "id": "Y0n8NKqNOBN4"
      },
      "source": [
        ""
      ]
    }
  ]
}